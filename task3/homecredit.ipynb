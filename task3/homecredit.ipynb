{
 "cells": [
  {
   "cell_type": "code",
   "execution_count": 73,
   "metadata": {
    "slideshow": {
     "slide_type": "slide"
    }
   },
   "outputs": [
    {
     "name": "stdout",
     "output_type": "stream",
     "text": [
      "Populating the interactive namespace from numpy and matplotlib\n"
     ]
    }
   ],
   "source": [
    "%pylab inline\n",
    "import pandas as pd\n",
    "from lightgbm import LGBMClassifier\n",
    "from sklearn.metrics import roc_auc_score\n",
    "from sklearn.model_selection import cross_val_score"
   ]
  },
  {
   "cell_type": "markdown",
   "metadata": {},
   "source": [
    "### preprocess"
   ]
  },
  {
   "cell_type": "code",
   "execution_count": 2,
   "metadata": {},
   "outputs": [
    {
     "name": "stdout",
     "output_type": "stream",
     "text": [
      "CPU times: user 35.1 s, sys: 520 ms, total: 35.6 s\n",
      "Wall time: 35.5 s\n"
     ]
    }
   ],
   "source": [
    "%%time\n",
    "usecols_test = np.array(['AMT_ANNUITY', 'AMT_CREDIT_MAX_OVERDUE', 'AMT_CREDIT_SUM', \n",
    "    'AMT_CREDIT_SUM_DEBT', 'AMT_CREDIT_SUM_LIMIT', 'AMT_REQ_SOURCE_YEAR',\n",
    "    'CREDIT_DELAY30', 'CREDIT_DELAY_MORE', 'CREDIT_FACILITY', 'DTIME_CREDIT_UPDATE',\n",
    "    'DTIME_CREDIT_ENDDATE', 'DTIME_CREDIT_ENDDATE_FACT', 'CREDIT_TYPE',\n",
    "    'DTIME_CREDIT', 'ID', 'TEXT_PAYMENT_DISCIPLINE'])\n",
    "usecols_train = np.hstack((usecols_test, 'DEF'))\n",
    "parse_dates=['DTIME_CREDIT', 'DTIME_CREDIT_ENDDATE',\n",
    "    'DTIME_CREDIT_ENDDATE_FACT', 'DTIME_CREDIT_UPDATE']\n",
    "\n",
    "data = pd.read_csv('test.csv', usecols=usecols_test,\n",
    "    parse_dates=parse_dates, dayfirst=True, infer_datetime_format=True).append(\n",
    "    pd.read_csv('train.csv', usecols=usecols_train,\n",
    "    parse_dates=parse_dates, dayfirst=True, infer_datetime_format=True))\n",
    "data.reset_index(drop=True, inplace=True)"
   ]
  },
  {
   "cell_type": "code",
   "execution_count": 3,
   "metadata": {},
   "outputs": [
    {
     "name": "stdout",
     "output_type": "stream",
     "text": [
      "CPU times: user 948 ms, sys: 100 ms, total: 1.05 s\n",
      "Wall time: 1.04 s\n"
     ]
    }
   ],
   "source": [
    "%%time\n",
    "sorts = data['DTIME_CREDIT'].sort_values()\n",
    "bad_idxs = sorts.index[:3]\n",
    "true_idx = sorts.index[3]\n",
    "data.loc[bad_idxs, 'DTIME_CREDIT'] = data.loc[true_idx, 'DTIME_CREDIT']\n",
    "\n",
    "sorts = data['DTIME_CREDIT_UPDATE'].sort_values(ascending=False)\n",
    "bad_idxs = sorts.index[:2]\n",
    "true_idx = sorts.index[3]\n",
    "data.loc[bad_idxs, 'DTIME_CREDIT_UPDATE'] = data.loc[true_idx, 'DTIME_CREDIT_UPDATE']\n",
    "\n",
    "bad_idxs = data[['CREDIT_TYPE']].query('CREDIT_TYPE in (2, 8, 9, 10)').index\n",
    "data.loc[bad_idxs, 'CREDIT_TYPE'] = 99"
   ]
  },
  {
   "cell_type": "code",
   "execution_count": 4,
   "metadata": {},
   "outputs": [
    {
     "name": "stdout",
     "output_type": "stream",
     "text": [
      "CPU times: user 1min 24s, sys: 100 ms, total: 1min 24s\n",
      "Wall time: 1min 24s\n"
     ]
    }
   ],
   "source": [
    "%%time\n",
    "data['DELTA'] = (data['DTIME_CREDIT_ENDDATE'] - data['DTIME_CREDIT']).dt.days\n",
    "data['DELTA_FACT'] = (data['DTIME_CREDIT_ENDDATE'] - data['DTIME_CREDIT_ENDDATE_FACT']).dt.days\n",
    "data['DELTA_UPDATE_END'] = (data['DTIME_CREDIT_UPDATE'] - data['DTIME_CREDIT_ENDDATE']).dt.days\n",
    "data['DELTA_UPDATE_START'] = (data['DTIME_CREDIT_UPDATE'] - data['DTIME_CREDIT']).dt.days\n",
    "\n",
    "data['DAY_MONTH_CREDIT'] = data['DTIME_CREDIT'].dt.day\n",
    "data['DAY_WEEK_CREDIT'] = data['DTIME_CREDIT'].dt.dayofweek\n",
    "data['DAY_YEAR_CREDIT'] = data['DTIME_CREDIT'].dt.dayofyear\n",
    "\n",
    "data['DAY_MONTH_CREDIT_ENDDATE'] = data['DTIME_CREDIT_ENDDATE'].dt.day\n",
    "data['DAY_WEEK_CREDIT_ENDDATE'] = data['DTIME_CREDIT_ENDDATE'].dt.dayofweek\n",
    "data['DAY_YEAR_CREDIT_ENDDATE'] = data['DTIME_CREDIT_ENDDATE'].dt.dayofyear\n",
    "\n",
    "data['DAY_MONTH_CREDIT_UPDATE'] = data['DTIME_CREDIT_UPDATE'].dt.day\n",
    "data['DAY_WEEK_CREDIT_UPDATE'] = data['DTIME_CREDIT_UPDATE'].dt.dayofweek\n",
    "data['DAY_YEAR_CREDIT_UPDATE'] = data['DTIME_CREDIT_UPDATE'].dt.dayofyear\n",
    "\n",
    "data['DAY_MONTH_CREDIT_ENDDATE_FACT'] = data['DTIME_CREDIT_ENDDATE_FACT'].dt.day\n",
    "data['DAY_WEEK_CREDIT_ENDDATE_FACT'] = data['DTIME_CREDIT_ENDDATE_FACT'].dt.dayofweek\n",
    "data['DAY_YEAR_CREDIT_ENDDATE_FACT'] = data['DTIME_CREDIT_ENDDATE_FACT'].dt.dayofyear"
   ]
  },
  {
   "cell_type": "code",
   "execution_count": 7,
   "metadata": {},
   "outputs": [
    {
     "name": "stdout",
     "output_type": "stream",
     "text": [
      "CPU times: user 54.7 s, sys: 436 ms, total: 55.2 s\n",
      "Wall time: 55.2 s\n"
     ]
    }
   ],
   "source": [
    "%%time\n",
    "data['TEXT_PAYMENT_DISCIPLINE'].fillna('', inplace=True)\n",
    "counters = data['TEXT_PAYMENT_DISCIPLINE'].apply(\n",
    "    lambda s:(s.count('0'), s.count('1'), s.count('C'), s.count('X'),\n",
    "              s.count('2') + s.count('3') + s.count('4') + s.count('5')))\n",
    "counters = pd.DataFrame(np.vstack(counters), data.index)\n",
    "counters = counters.rename_axis({0:'COUNT_0', 1:'COUNT_1',\n",
    "    2:'COUNT_C', 3:'COUNT_X', 4:'COUNT_MORE'}, axis=1)\n",
    "anuar = data['TEXT_PAYMENT_DISCIPLINE'].apply(\n",
    "    lambda s: sum([1/(j + 1) for j, c in enumerate(s) if c.isdigit() and c=='0']))\n",
    "data = pd.concat((data, counters, anuar.rename('ANUAR')), axis=1)"
   ]
  },
  {
   "cell_type": "code",
   "execution_count": 18,
   "metadata": {},
   "outputs": [
    {
     "name": "stdout",
     "output_type": "stream",
     "text": [
      "CPU times: user 1min 17s, sys: 1.04 s, total: 1min 18s\n",
      "Wall time: 1min 18s\n"
     ]
    }
   ],
   "source": [
    "%%time\n",
    "first_key = ['ID', 'DTIME_CREDIT', 'CREDIT_TYPE']\n",
    "data = data.groupby(first_key).median()\n",
    "data.to_csv('data.csv')"
   ]
  },
  {
   "cell_type": "markdown",
   "metadata": {},
   "source": [
    "### inference"
   ]
  },
  {
   "cell_type": "code",
   "execution_count": 20,
   "metadata": {},
   "outputs": [
    {
     "name": "stdout",
     "output_type": "stream",
     "text": [
      "CPU times: user 6.38 s, sys: 284 ms, total: 6.67 s\n",
      "Wall time: 6.67 s\n"
     ]
    }
   ],
   "source": [
    "%%time\n",
    "first_key = ['ID', 'DTIME_CREDIT', 'CREDIT_TYPE']\n",
    "data = pd.read_csv('data.csv', parse_dates=['DTIME_CREDIT'], infer_datetime_format=True)\n",
    "data = data.groupby(first_key).first()\n",
    "data.reset_index(['DTIME_CREDIT', 'CREDIT_TYPE'], inplace=True)\n",
    "data.drop('DTIME_CREDIT', axis=1, inplace=True)"
   ]
  },
  {
   "cell_type": "code",
   "execution_count": 28,
   "metadata": {},
   "outputs": [
    {
     "name": "stdout",
     "output_type": "stream",
     "text": [
      "CPU times: user 260 ms, sys: 44 ms, total: 304 ms\n",
      "Wall time: 302 ms\n"
     ]
    }
   ],
   "source": [
    "%%time\n",
    "lengths = data.groupby('ID').size()\n",
    "labels = data.groupby('ID')['DEF'].first()\n",
    "idxs = data.index\n",
    "data.drop('DEF', axis=1, inplace=True)\n",
    "data.loc[data['CREDIT_TYPE'] != 19, 'CREDIT_TYPE'] = 0\n",
    "data.loc[data['CREDIT_TYPE'] == 19, 'CREDIT_TYPE'] = 1\n",
    "data.loc[data['AMT_CREDIT_SUM_DEBT'].isnull(), 'AMT_CREDIT_SUM_DEBT'] = 0\n",
    "data.loc[data['CREDIT_FACILITY'].isnull(), 'CREDIT_FACILITY'] = 0"
   ]
  },
  {
   "cell_type": "code",
   "execution_count": 107,
   "metadata": {},
   "outputs": [
    {
     "name": "stdout",
     "output_type": "stream",
     "text": [
      "CPU times: user 3.64 s, sys: 280 ms, total: 3.92 s\n",
      "Wall time: 3.92 s\n"
     ]
    }
   ],
   "source": [
    "%%time\n",
    "grouped_mean = data.groupby('ID').mean()\n",
    "grouped_std = data.groupby('ID').std()\n",
    "grouped_median = data.groupby('ID').median()\n",
    "grouped_max = data.groupby('ID').max()\n",
    "grouped_min = data.groupby('ID').min()\n",
    "grouped_data = pd.concat((grouped_mean, grouped_std, grouped_median,\n",
    "    grouped_max, grouped_min, lengths.rename('LEN')), axis=1)\n",
    "\n",
    "train_idxs = labels[labels.notnull()].index\n",
    "test_idxs = labels[labels.isnull()].index\n",
    "train_data = grouped_data.loc[train_idxs]\n",
    "train_labels = labels.loc[train_idxs]\n",
    "test_data = grouped_data.loc[test_idxs]"
   ]
  },
  {
   "cell_type": "code",
   "execution_count": 142,
   "metadata": {},
   "outputs": [
    {
     "name": "stdout",
     "output_type": "stream",
     "text": [
      "0.684501059057\n",
      "CPU times: user 1min 51s, sys: 540 ms, total: 1min 51s\n",
      "Wall time: 16.6 s\n"
     ]
    }
   ],
   "source": [
    "%%time\n",
    "model = LGBMClassifier(n_estimators=300, max_depth=2, reg_lambda=1)\n",
    "print(cross_val_score(model, train_data, train_labels, cv=5, scoring='roc_auc').mean())"
   ]
  },
  {
   "cell_type": "code",
   "execution_count": 126,
   "metadata": {},
   "outputs": [
    {
     "data": {
      "text/plain": [
       "LGBMClassifier(boosting_type='gbdt', colsample_bytree=1.0, learning_rate=0.1,\n",
       "        max_bin=255, max_depth=2, min_child_samples=10, min_child_weight=5,\n",
       "        min_split_gain=0.0, n_estimators=300, n_jobs=-1, num_leaves=31,\n",
       "        objective=None, random_state=0, reg_alpha=0.0, reg_lambda=1,\n",
       "        silent=True, subsample=1.0, subsample_for_bin=50000,\n",
       "        subsample_freq=1)"
      ]
     },
     "execution_count": 126,
     "metadata": {},
     "output_type": "execute_result"
    }
   ],
   "source": [
    "model = LGBMClassifier(n_estimators=300, max_depth=2, reg_lambda=1)\n",
    "model.fit(train_data, train_labels)"
   ]
  },
  {
   "cell_type": "code",
   "execution_count": 143,
   "metadata": {},
   "outputs": [
    {
     "name": "stdout",
     "output_type": "stream",
     "text": [
      "CPU times: user 29.3 s, sys: 180 ms, total: 29.5 s\n",
      "Wall time: 4.71 s\n"
     ]
    }
   ],
   "source": [
    "%%time\n",
    "model = LGBMClassifier(n_estimators=300, max_depth=2, reg_lambda=1)\n",
    "model.fit(train_data, train_labels)\n",
    "test_labels = model.predict_proba(test_data)[:, 1]\n",
    "pd.DataFrame(test_labels, index=test_idxs).rename_axis(\n",
    "    {0:'Score'}, axis=1).to_csv('submit.csv')"
   ]
  }
 ],
 "metadata": {
  "anaconda-cloud": {},
  "kernelspec": {
   "display_name": "Python 3",
   "language": "python",
   "name": "python3"
  },
  "language_info": {
   "codemirror_mode": {
    "name": "ipython",
    "version": 3
   },
   "file_extension": ".py",
   "mimetype": "text/x-python",
   "name": "python",
   "nbconvert_exporter": "python",
   "pygments_lexer": "ipython3",
   "version": "3.6.2"
  },
  "widgets": {
   "state": {},
   "version": "1.1.2"
  }
 },
 "nbformat": 4,
 "nbformat_minor": 2
}
