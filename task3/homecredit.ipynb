{
 "cells": [
  {
   "cell_type": "code",
   "execution_count": 2,
   "metadata": {
    "slideshow": {
     "slide_type": "slide"
    }
   },
   "outputs": [
    {
     "name": "stdout",
     "output_type": "stream",
     "text": [
      "Populating the interactive namespace from numpy and matplotlib\n"
     ]
    }
   ],
   "source": [
    "%pylab inline\n",
    "plt.style.use('bmh')\n",
    "import pandas as pd"
   ]
  },
  {
   "cell_type": "code",
   "execution_count": 80,
   "metadata": {},
   "outputs": [
    {
     "name": "stdout",
     "output_type": "stream",
     "text": [
      "CPU times: user 22.6 s, sys: 1.09 s, total: 23.7 s\n",
      "Wall time: 23.8 s\n"
     ]
    }
   ],
   "source": [
    "%%time\n",
    "train_idxs = pd.read_csv('sample/train.csv', usecols=['ID'])['ID'].unique()\n",
    "test_idxs = pd.read_csv('sample/test.csv', usecols=['ID'])['ID'].unique()\n",
    "np.save('sample/train_idxs.npy', train_idxs)\n",
    "np.save('sample/test_idxs.npy', test_idxs)\n",
    "\n",
    "data = pd.read_csv('sample/train.csv').append(\n",
    "    pd.read_csv('sample/test.csv'))\n",
    "data.reset_index(drop=True, inplace=True)\n",
    "\n",
    "data.columns = data.columns.map(lambda s: s.lower().replace('_', ' '))\n",
    "data.drop('credit collateral', axis=1, inplace=True)\n",
    "data['text payment discipline'] = (data['text payment discipline']\n",
    "    [data['text payment discipline'].notnull()].apply(len))\n",
    "data['credit currency'] = data['credit currency'].apply(lambda x: 0 if x=='rur' else 1)"
   ]
  },
  {
   "cell_type": "code",
   "execution_count": 172,
   "metadata": {},
   "outputs": [],
   "source": [
    "raw_shape = pd.read_csv('sample/train.csv').append(\n",
    "    pd.read_csv('sample/test.csv')).shape[0]"
   ]
  },
  {
   "cell_type": "code",
   "execution_count": 185,
   "metadata": {},
   "outputs": [
    {
     "data": {
      "text/plain": [
       "Index(['id', 'credit active', 'dtime credit', 'dtime credit enddate',\n",
       "       'dtime credit enddate fact', 'amt annuity', 'amt credit max overdue',\n",
       "       'amt credit sum', 'amt credit sum debt', 'amt credit sum limit',\n",
       "       'amt credit sum overdue', 'amt req source day', 'amt req source hour',\n",
       "       'amt req source mon', 'amt req source qrt', 'amt req source week',\n",
       "       'amt req source year', 'cnt credit prolong', 'credit currency',\n",
       "       'credit day overdue', 'credit delay more', 'credit delay30',\n",
       "       'credit delay5', 'credit delay60', 'credit delay90', 'credit facility',\n",
       "       'credit sum type', 'credit type', 'def', 'sk date decision',\n",
       "       'text payment discipline'],\n",
       "      dtype='object')"
      ]
     },
     "execution_count": 185,
     "metadata": {},
     "output_type": "execute_result"
    }
   ],
   "source": [
    "data.columns"
   ]
  },
  {
   "cell_type": "code",
   "execution_count": null,
   "metadata": {},
   "outputs": [],
   "source": [
    "%%time\n",
    "first_key = ['id', 'credit active', 'dtime credit',\n",
    "    'dtime credit enddate', 'dtime credit enddate fact']\n",
    "\n",
    "data = data[data['num source'] == 1].groupby(first_key).median().merge(\n",
    "    data[data['num source'] == 2].groupby(first_key).median(),\n",
    "    how='outer', left_index=True, right_index=True).merge(\n",
    "    data[data['num source'] == 3].groupby(first_key).median(),\n",
    "    how='outer', left_index=True, right_index=True).merge(\n",
    "    data[data['num source'] == 4].groupby(first_key).median(),\n",
    "    how='outer', left_index=True, right_index=True)\n",
    "\n",
    "data.columns = data.columns.map(lambda x: x[:-2])\n",
    "data = data.apply(lambda x: x.groupby(data.columns).median(), axis=1)\n",
    "data.drop('num source', axis=1, inplace=True)\n",
    "data.to_csv('sample/data_merged.csv')"
   ]
  },
  {
   "cell_type": "code",
   "execution_count": 180,
   "metadata": {},
   "outputs": [
    {
     "data": {
      "text/plain": [
       "(1483598, 31)"
      ]
     },
     "execution_count": 180,
     "metadata": {},
     "output_type": "execute_result"
    }
   ],
   "source": [
    "data = pd.read_csv('sample/data_merged.csv')\n",
    "data.shape"
   ]
  },
  {
   "cell_type": "code",
   "execution_count": 177,
   "metadata": {},
   "outputs": [
    {
     "data": {
      "image/png": "[encoded data removed]",
      "text/plain": [
       "<matplotlib.figure.Figure at 0x7fcb5bcad518>"
      ]
     },
     "metadata": {},
     "output_type": "display_data"
    }
   ],
   "source": [
    "plt.bar(('append', 'merge'), (raw_shape, data.shape[0]))\n",
    "plt.xlabel('grouping method')\n",
    "plt.ylabel('count')\n",
    "plt.savefig('images/grouping.pdf')"
   ]
  },
  {
   "cell_type": "code",
   "execution_count": 190,
   "metadata": {},
   "outputs": [],
   "source": [
    "train = data.reset_index().merge(pd.DataFrame([], index=train_idxs), left_on='id', right_index=True)\n",
    "test = data.reset_index().merge(pd.DataFrame([], index=test_idxs), left_on='id', right_index=True)"
   ]
  },
  {
   "cell_type": "code",
   "execution_count": 191,
   "metadata": {},
   "outputs": [
    {
     "data": {
      "image/png": "[encoded data removed]",
      "text/plain": [
       "<matplotlib.figure.Figure at 0x7fcb4f7dbb38>"
      ]
     },
     "metadata": {},
     "output_type": "display_data"
    }
   ],
   "source": [
    "train.groupby('sk date decision')['def'].mean().plot.hist(bins=20)\n",
    "plt.vlines(0.03, 0, 30)\n",
    "plt.title('sk date decision')\n",
    "plt.xlabel('def')\n",
    "plt.ylabel('frequency')\n",
    "plt.savefig('images/sk_date_decision.pdf')"
   ]
  },
  {
   "cell_type": "code",
   "execution_count": 196,
   "metadata": {},
   "outputs": [
    {
     "data": {
      "text/html": [
       "<div>\n",
       "<style>\n",
       "    .dataframe thead tr:only-child th {\n",
       "        text-align: right;\n",
       "    }\n",
       "\n",
       "    .dataframe thead th {\n",
       "        text-align: left;\n",
       "    }\n",
       "\n",
       "    .dataframe tbody tr th {\n",
       "        vertical-align: top;\n",
       "    }\n",
       "</style>\n",
       "<table border=\"1\" class=\"dataframe\">\n",
       "  <thead>\n",
       "    <tr style=\"text-align: right;\">\n",
       "      <th></th>\n",
       "      <th>id</th>\n",
       "    </tr>\n",
       "    <tr>\n",
       "      <th>sk date decision</th>\n",
       "      <th></th>\n",
       "    </tr>\n",
       "  </thead>\n",
       "  <tbody>\n",
       "    <tr>\n",
       "      <th>20160225.0</th>\n",
       "      <td>983</td>\n",
       "    </tr>\n",
       "    <tr>\n",
       "      <th>20160226.0</th>\n",
       "      <td>980</td>\n",
       "    </tr>\n",
       "    <tr>\n",
       "      <th>20160227.0</th>\n",
       "      <td>793</td>\n",
       "    </tr>\n",
       "    <tr>\n",
       "      <th>20160228.0</th>\n",
       "      <td>199</td>\n",
       "    </tr>\n",
       "    <tr>\n",
       "      <th>20160229.0</th>\n",
       "      <td>1075</td>\n",
       "    </tr>\n",
       "  </tbody>\n",
       "</table>\n",
       "</div>"
      ],
      "text/plain": [
       "                    id\n",
       "sk date decision      \n",
       "20160225.0         983\n",
       "20160226.0         980\n",
       "20160227.0         793\n",
       "20160228.0         199\n",
       "20160229.0        1075"
      ]
     },
     "execution_count": 196,
     "metadata": {},
     "output_type": "execute_result"
    }
   ],
   "source": [
    "train.groupby('sk date decision')[['id']].nunique().tail(5)"
   ]
  },
  {
   "cell_type": "code",
   "execution_count": 199,
   "metadata": {},
   "outputs": [
    {
     "data": {
      "text/html": [
       "<div>\n",
       "<style>\n",
       "    .dataframe thead tr:only-child th {\n",
       "        text-align: right;\n",
       "    }\n",
       "\n",
       "    .dataframe thead th {\n",
       "        text-align: left;\n",
       "    }\n",
       "\n",
       "    .dataframe tbody tr th {\n",
       "        vertical-align: top;\n",
       "    }\n",
       "</style>\n",
       "<table border=\"1\" class=\"dataframe\">\n",
       "  <thead>\n",
       "    <tr style=\"text-align: right;\">\n",
       "      <th></th>\n",
       "      <th>id</th>\n",
       "    </tr>\n",
       "    <tr>\n",
       "      <th>sk date decision</th>\n",
       "      <th></th>\n",
       "    </tr>\n",
       "  </thead>\n",
       "  <tbody>\n",
       "    <tr>\n",
       "      <th>20160301.0</th>\n",
       "      <td>999</td>\n",
       "    </tr>\n",
       "    <tr>\n",
       "      <th>20160302.0</th>\n",
       "      <td>892</td>\n",
       "    </tr>\n",
       "    <tr>\n",
       "      <th>20160303.0</th>\n",
       "      <td>917</td>\n",
       "    </tr>\n",
       "    <tr>\n",
       "      <th>20160304.0</th>\n",
       "      <td>896</td>\n",
       "    </tr>\n",
       "    <tr>\n",
       "      <th>20160305.0</th>\n",
       "      <td>630</td>\n",
       "    </tr>\n",
       "  </tbody>\n",
       "</table>\n",
       "</div>"
      ],
      "text/plain": [
       "                   id\n",
       "sk date decision     \n",
       "20160301.0        999\n",
       "20160302.0        892\n",
       "20160303.0        917\n",
       "20160304.0        896\n",
       "20160305.0        630"
      ]
     },
     "execution_count": 199,
     "metadata": {},
     "output_type": "execute_result"
    }
   ],
   "source": [
    "test.groupby('sk date decision')[['id']].nunique().head(5)"
   ]
  },
  {
   "cell_type": "code",
   "execution_count": 134,
   "metadata": {},
   "outputs": [
    {
     "data": {
      "text/plain": [
       "Float64Index([20160301.0, 20160302.0, 20160303.0, 20160304.0, 20160305.0], dtype='float64', name='sk date decision')"
      ]
     },
     "execution_count": 134,
     "metadata": {},
     "output_type": "execute_result"
    }
   ],
   "source": [
    "test.groupby('sk date decision')['id'].nunique().index.sort_values()[:5]"
   ]
  },
  {
   "cell_type": "code",
   "execution_count": 135,
   "metadata": {},
   "outputs": [],
   "source": [
    "train.drop('sk date decision', axis=1, inplace=True)\n",
    "test.drop('sk date decision', axis=1, inplace=True)"
   ]
  },
  {
   "cell_type": "code",
   "execution_count": 143,
   "metadata": {},
   "outputs": [],
   "source": [
    "from sklearn.metrics import roc_auc_score\n",
    "defs = train.groupby('id')['def'].max()"
   ]
  },
  {
   "cell_type": "code",
   "execution_count": 144,
   "metadata": {},
   "outputs": [],
   "source": [
    "pay = train[['id','text payment discipline']].copy()\n",
    "pay.fillna(pay['text payment discipline'].mean(), inplace=True)"
   ]
  },
  {
   "cell_type": "code",
   "execution_count": 145,
   "metadata": {},
   "outputs": [
    {
     "data": {
      "text/plain": [
       "0.56805002626057577"
      ]
     },
     "execution_count": 145,
     "metadata": {},
     "output_type": "execute_result"
    }
   ],
   "source": [
    "pay_mean = pay.groupby('id').mean()\n",
    "roc_auc_score(defs, -pay_mean)"
   ]
  },
  {
   "cell_type": "code",
   "execution_count": 146,
   "metadata": {},
   "outputs": [
    {
     "data": {
      "text/plain": [
       "0.54504352792107991"
      ]
     },
     "execution_count": 146,
     "metadata": {},
     "output_type": "execute_result"
    }
   ],
   "source": [
    "pay_std = pay.groupby('id').std().fillna(0)\n",
    "roc_auc_score(defs, -pay_std)"
   ]
  },
  {
   "cell_type": "code",
   "execution_count": 162,
   "metadata": {},
   "outputs": [
    {
     "data": {
      "image/png": "[encoded data removed]",
      "text/plain": [
       "<matplotlib.figure.Figure at 0x7fcb60c0c358>"
      ]
     },
     "metadata": {},
     "output_type": "display_data"
    }
   ],
   "source": [
    "values = np.abs(np.array((roc_auc_score(defs, -pay_mean), roc_auc_score(defs, -pay_std))) - 0.5) * 100\n",
    "plt.ylabel('auc percent')\n",
    "plt.bar(('mean payment', 'std payment'), values)\n",
    "plt.savefig('images/meanstd_auc.pdf')"
   ]
  },
  {
   "cell_type": "code",
   "execution_count": 167,
   "metadata": {},
   "outputs": [],
   "source": [
    "names = ['hour', 'day', 'week', 'mon', 'qrt', 'year']"
   ]
  },
  {
   "cell_type": "code",
   "execution_count": 168,
   "metadata": {},
   "outputs": [],
   "source": [
    "rocs = [roc_auc_score(defs, (train.groupby('id') \\\n",
    "    ['amt req source {}'.format(name)].sum() > 0).astype(int)) for name in names]\n",
    "rocs = np.abs(np.array(rocs) - 0.5) * 100"
   ]
  },
  {
   "cell_type": "code",
   "execution_count": 170,
   "metadata": {},
   "outputs": [
    {
     "data": {
      "image/png": "[encoded data removed]",
      "text/plain": [
       "<matplotlib.figure.Figure at 0x7fcb5d1057b8>"
      ]
     },
     "metadata": {},
     "output_type": "display_data"
    }
   ],
   "source": [
    "plt.bar(names, rocs)\n",
    "plt.ylabel('auc percent')\n",
    "plt.xlabel('requests')\n",
    "plt.savefig('images/requests.pdf')"
   ]
  },
  {
   "cell_type": "code",
   "execution_count": 178,
   "metadata": {},
   "outputs": [
    {
     "data": {
      "text/html": [
       "<div>\n",
       "<style>\n",
       "    .dataframe thead tr:only-child th {\n",
       "        text-align: right;\n",
       "    }\n",
       "\n",
       "    .dataframe thead th {\n",
       "        text-align: left;\n",
       "    }\n",
       "\n",
       "    .dataframe tbody tr th {\n",
       "        vertical-align: top;\n",
       "    }\n",
       "</style>\n",
       "<table border=\"1\" class=\"dataframe\">\n",
       "  <thead>\n",
       "    <tr style=\"text-align: right;\">\n",
       "      <th>def</th>\n",
       "      <th>0</th>\n",
       "      <th>1</th>\n",
       "    </tr>\n",
       "    <tr>\n",
       "      <th>credit currency</th>\n",
       "      <th></th>\n",
       "      <th></th>\n",
       "    </tr>\n",
       "  </thead>\n",
       "  <tbody>\n",
       "    <tr>\n",
       "      <th>0</th>\n",
       "      <td>748510</td>\n",
       "      <td>22998</td>\n",
       "    </tr>\n",
       "    <tr>\n",
       "      <th>1</th>\n",
       "      <td>979</td>\n",
       "      <td>30</td>\n",
       "    </tr>\n",
       "  </tbody>\n",
       "</table>\n",
       "</div>"
      ],
      "text/plain": [
       "def                   0      1\n",
       "credit currency               \n",
       "0                748510  22998\n",
       "1                   979     30"
      ]
     },
     "execution_count": 178,
     "metadata": {},
     "output_type": "execute_result"
    }
   ],
   "source": [
    "train['credit currency'] = train['credit currency'].apply(lambda x: 0 if x==0 else 1)\n",
    "train['def'] = train['def'].apply(lambda x: int(x))\n",
    "train.pivot_table('id', 'credit currency', 'def', 'count')"
   ]
  },
  {
   "cell_type": "code",
   "execution_count": 155,
   "metadata": {},
   "outputs": [
    {
     "data": {
      "text/plain": [
       "0.50016769706527386"
      ]
     },
     "execution_count": 155,
     "metadata": {},
     "output_type": "execute_result"
    }
   ],
   "source": [
    "roc_auc_score(defs, -train.groupby('id')['credit currency'].sum())"
   ]
  },
  {
   "cell_type": "code",
   "execution_count": 186,
   "metadata": {},
   "outputs": [],
   "source": [
    "rocs = list()\n",
    "rocs.append(roc_auc_score(defs, train.groupby('id')['credit delay5'].sum()))\n",
    "rocs.append(roc_auc_score(defs, train.groupby('id')['credit delay30'].sum()))\n",
    "rocs.append(roc_auc_score(defs, train.groupby('id')['credit delay60'].sum()))\n",
    "rocs.append(roc_auc_score(defs, train.groupby('id')['credit delay90'].sum()))\n",
    "rocs.append(roc_auc_score(defs, train.groupby('id') \\\n",
    "    [['credit delay30', 'credit delay60']].sum().sum(axis=1)))\n",
    "rocs = np.abs(np.array(rocs) - 0.5)*100"
   ]
  },
  {
   "cell_type": "code",
   "execution_count": 187,
   "metadata": {},
   "outputs": [],
   "source": [
    "names = ('5', '30', '60', '90', '30+60')"
   ]
  },
  {
   "cell_type": "code",
   "execution_count": 188,
   "metadata": {},
   "outputs": [
    {
     "data": {
      "image/png": "[encoded data removed]",
      "text/plain": [
       "<matplotlib.figure.Figure at 0x7fcb56445e10>"
      ]
     },
     "metadata": {},
     "output_type": "display_data"
    }
   ],
   "source": [
    "plt.bar(names, rocs)\n",
    "plt.ylabel('auc percent')\n",
    "plt.xlabel('delays')\n",
    "plt.savefig('images/delays.pdf')"
   ]
  }
 ],
 "metadata": {
  "kernelspec": {
   "display_name": "Python 3",
   "language": "python",
   "name": "python3"
  },
  "language_info": {
   "codemirror_mode": {
    "name": "ipython",
    "version": 3
   },
   "file_extension": ".py",
   "mimetype": "text/x-python",
   "name": "python",
   "nbconvert_exporter": "python",
   "pygments_lexer": "ipython3",
   "version": "3.6.2"
  },
  "widgets": {
   "state": {},
   "version": "1.1.2"
  }
 },
 "nbformat": 4,
 "nbformat_minor": 2
}
