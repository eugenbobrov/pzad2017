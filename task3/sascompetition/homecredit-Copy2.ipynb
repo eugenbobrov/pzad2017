{
 "cells": [
  {
   "cell_type": "code",
   "execution_count": 1,
   "metadata": {
    "collapsed": false,
    "slideshow": {
     "slide_type": "slide"
    }
   },
   "outputs": [
    {
     "name": "stdout",
     "output_type": "stream",
     "text": [
      "Populating the interactive namespace from numpy and matplotlib\n"
     ]
    }
   ],
   "source": [
    "%pylab inline\n",
    "import pandas as pd\n",
    "from lightgbm import LGBMClassifier\n",
    "from sklearn.model_selection import cross_val_score"
   ]
  },
  {
   "cell_type": "markdown",
   "metadata": {},
   "source": [
    "### preprocess"
   ]
  },
  {
   "cell_type": "code",
   "execution_count": 2,
   "metadata": {
    "collapsed": false
   },
   "outputs": [
    {
     "name": "stdout",
     "output_type": "stream",
     "text": [
      "time: 37.5 s\n"
     ]
    }
   ],
   "source": [
    "usecols_test = np.array(['AMT_ANNUITY', 'AMT_CREDIT_MAX_OVERDUE', 'AMT_CREDIT_SUM', \n",
    "    'AMT_CREDIT_SUM_DEBT', 'AMT_CREDIT_SUM_LIMIT', 'AMT_REQ_SOURCE_YEAR',\n",
    "    'CREDIT_DELAY30', 'CREDIT_DELAY_MORE', 'CREDIT_FACILITY', 'DTIME_CREDIT_UPDATE',\n",
    "    'DTIME_CREDIT_ENDDATE', 'DTIME_CREDIT_ENDDATE_FACT', 'CREDIT_TYPE',\n",
    "    'DTIME_CREDIT', 'ID', 'NUM_SOURCE', 'TEXT_PAYMENT_DISCIPLINE'])\n",
    "usecols_train = np.hstack((usecols_test, 'DEF'))\n",
    "parse_dates=['DTIME_CREDIT', 'DTIME_CREDIT_ENDDATE',\n",
    "    'DTIME_CREDIT_ENDDATE_FACT', 'DTIME_CREDIT_UPDATE']\n",
    "\n",
    "data = pd.read_csv('sample/test.csv', usecols=usecols_test,\n",
    "    parse_dates=parse_dates, dayfirst=True, infer_datetime_format=True).append(\n",
    "    pd.read_csv('sample/train.csv', usecols=usecols_train,\n",
    "    parse_dates=parse_dates, dayfirst=True, infer_datetime_format=True))\n",
    "data.reset_index(drop=True, inplace=True)"
   ]
  },
  {
   "cell_type": "code",
   "execution_count": 3,
   "metadata": {
    "collapsed": false
   },
   "outputs": [
    {
     "name": "stdout",
     "output_type": "stream",
     "text": [
      "CPU times: user 992 ms, sys: 56 ms, total: 1.05 s\n",
      "Wall time: 1.04 s\n"
     ]
    }
   ],
   "source": [
    "%%time\n",
    "sorts = data['DTIME_CREDIT'].sort_values()\n",
    "bad_idxs = sorts.index[:3]\n",
    "true_idx = sorts.index[3]\n",
    "data.loc[bad_idxs, 'DTIME_CREDIT'] = data.loc[true_idx, 'DTIME_CREDIT']\n",
    "\n",
    "sorts = data['DTIME_CREDIT_UPDATE'].sort_values(ascending=False)\n",
    "bad_idxs = sorts.index[:2]\n",
    "true_idx = sorts.index[3]\n",
    "data.loc[bad_idxs, 'DTIME_CREDIT_UPDATE'] = data.loc[true_idx, 'DTIME_CREDIT_UPDATE']\n",
    "\n",
    "bad_idxs = data[['CREDIT_TYPE']].query('CREDIT_TYPE in (2, 8, 9, 10)').index\n",
    "data.loc[bad_idxs, 'CREDIT_TYPE'] = 99"
   ]
  },
  {
   "cell_type": "code",
   "execution_count": 4,
   "metadata": {
    "collapsed": false
   },
   "outputs": [
    {
     "name": "stdout",
     "output_type": "stream",
     "text": [
      "CPU times: user 1min 17s, sys: 60 ms, total: 1min 17s\n",
      "Wall time: 1min 16s\n"
     ]
    }
   ],
   "source": [
    "%%time\n",
    "data['DELTA'] = (data['DTIME_CREDIT_ENDDATE'] - data['DTIME_CREDIT']).dt.days\n",
    "data['DELTA_FACT'] = (data['DTIME_CREDIT_ENDDATE'] - data['DTIME_CREDIT_ENDDATE_FACT']).dt.days\n",
    "data['DELTA_UPDATE_END'] = (data['DTIME_CREDIT_UPDATE'] - data['DTIME_CREDIT_ENDDATE']).dt.days\n",
    "data['DELTA_UPDATE_START'] = (data['DTIME_CREDIT_UPDATE'] - data['DTIME_CREDIT']).dt.days"
   ]
  },
  {
   "cell_type": "code",
   "execution_count": 5,
   "metadata": {
    "collapsed": false
   },
   "outputs": [
    {
     "name": "stdout",
     "output_type": "stream",
     "text": [
      "CPU times: user 16.2 s, sys: 444 ms, total: 16.7 s\n",
      "Wall time: 16.7 s\n"
     ]
    }
   ],
   "source": [
    "%%time\n",
    "masks = data['TEXT_PAYMENT_DISCIPLINE'].notnull()\n",
    "counters = data['TEXT_PAYMENT_DISCIPLINE'][masks].apply(\n",
    "    lambda s:(s.count('0'), s.count('1'), s.count('C'), s.count('X'),\n",
    "              s.count('2') + s.count('3') + s.count('4') + s.count('5')))\n",
    "counters = pd.DataFrame(np.vstack(counters), data[masks].index)\n",
    "counters = counters.rename_axis({0:'COUNT_0', 1:'COUNT_1',\n",
    "    2:'COUNT_C', 3:'COUNT_X', 4:'COUNT_MORE'}, axis=1)\n",
    "data = data.join(counters)"
   ]
  },
  {
   "cell_type": "code",
   "execution_count": null,
   "metadata": {
    "collapsed": true
   },
   "outputs": [],
   "source": [
    "%%time\n",
    "first_key = ['ID', 'DTIME_CREDIT', 'CREDIT_TYPE']\n",
    "data = data.groupby(first_key).median()\n",
    "data.reset_index(['DTIME_CREDIT', 'CREDIT_TYPE'], drop=True, inplace=True)\n",
    "data.drop('NUM_SOURCE', axis=1, inplace=True)\n",
    "data.to_csv('sample/data_merged.csv')"
   ]
  },
  {
   "cell_type": "code",
   "execution_count": 19,
   "metadata": {
    "collapsed": true
   },
   "outputs": [],
   "source": [
    "data.to_csv('sample/data_merged.csv')"
   ]
  },
  {
   "cell_type": "markdown",
   "metadata": {},
   "source": [
    "### inference"
   ]
  },
  {
   "cell_type": "code",
   "execution_count": 3,
   "metadata": {
    "collapsed": false
   },
   "outputs": [
    {
     "name": "stdout",
     "output_type": "stream",
     "text": [
      "CPU times: user 2.44 s, sys: 128 ms, total: 2.56 s\n",
      "Wall time: 2.56 s\n",
      "time: 2.57 s\n"
     ]
    }
   ],
   "source": [
    "%%time\n",
    "data = pd.read_csv('sample/data_merged.csv')\n",
    "lengths = data.groupby('ID').size()\n",
    "labels = data.groupby('ID')['DEF'].first()\n",
    "data.drop('DEF', axis=1, inplace=True)\n",
    "data.loc[data['AMT_CREDIT_SUM_DEBT'].isnull(), 'AMT_CREDIT_SUM_DEBT'] = 0\n",
    "data.loc[data['CREDIT_FACILITY'].isnull(), 'CREDIT_FACILITY'] = 0"
   ]
  },
  {
   "cell_type": "code",
   "execution_count": 4,
   "metadata": {
    "collapsed": false
   },
   "outputs": [
    {
     "name": "stdout",
     "output_type": "stream",
     "text": [
      "CPU times: user 640 ms, sys: 120 ms, total: 760 ms\n",
      "Wall time: 755 ms\n",
      "time: 769 ms\n"
     ]
    }
   ],
   "source": [
    "%%time\n",
    "grouped_mean = data.groupby('ID').mean()\n",
    "grouped_mean = grouped_mean.fillna(grouped_mean.mean())\n",
    "\n",
    "grouped_var = data.groupby('ID').var()\n",
    "grouped_var = grouped_var.fillna(0)\n",
    "\n",
    "grouped_data = grouped_mean.merge(grouped_var,\n",
    "    how='outer', left_index=True, right_index=True)\n",
    "\n",
    "train_idxs = labels[labels.notnull()].index\n",
    "test_idxs = labels[labels.isnull()].index\n",
    "train_data = grouped_data.loc[train_idxs]\n",
    "train_labels = labels.loc[train_idxs]\n",
    "test_data = grouped_data.loc[test_idxs]"
   ]
  },
  {
   "cell_type": "code",
   "execution_count": 32,
   "metadata": {
    "collapsed": false
   },
   "outputs": [
    {
     "name": "stdout",
     "output_type": "stream",
     "text": [
      "0.680878832429\n",
      "CPU times: user 20.7 s, sys: 20 ms, total: 20.7 s\n",
      "Wall time: 2.99 s\n",
      "time: 3 s\n"
     ]
    }
   ],
   "source": [
    "%%time\n",
    "model = LGBMClassifier(n_estimators=300, max_depth=-1, reg_lambda=1, num_leaves=4)\n",
    "print(cross_val_score(model, train_data, train_labels, scoring='roc_auc').mean())"
   ]
  },
  {
   "cell_type": "code",
   "execution_count": 33,
   "metadata": {
    "collapsed": false
   },
   "outputs": [
    {
     "name": "stdout",
     "output_type": "stream",
     "text": [
      "CPU times: user 10 s, sys: 20 ms, total: 10 s\n",
      "Wall time: 1.44 s\n",
      "time: 1.45 s\n"
     ]
    }
   ],
   "source": [
    "%%time\n",
    "model = LGBMClassifier(n_estimators=300, max_depth=-1, reg_lambda=1, num_leaves=4)\n",
    "model.fit(train_data, train_labels)"
   ]
  },
  {
   "cell_type": "code",
   "execution_count": 35,
   "metadata": {
    "collapsed": false
   },
   "outputs": [
    {
     "name": "stdout",
     "output_type": "stream",
     "text": [
      "CPU times: user 2.38 s, sys: 12 ms, total: 2.39 s\n",
      "Wall time: 606 ms\n",
      "time: 611 ms\n"
     ]
    }
   ],
   "source": [
    "%%time\n",
    "test_labels = model.predict_proba(test_data)[:, 1]\n",
    "np.save('sample/test_labels.npy', test_labels)\n",
    "pd.DataFrame(test_labels, index=test_idxs).rename_axis(\n",
    "    {0:'Score'}, axis=1).to_csv('submit.csv')"
   ]
  }
 ],
 "metadata": {
  "anaconda-cloud": {},
  "kernelspec": {
   "display_name": "Python [default]",
   "language": "python",
   "name": "python3"
  },
  "language_info": {
   "codemirror_mode": {
    "name": "ipython",
    "version": 3
   },
   "file_extension": ".py",
   "mimetype": "text/x-python",
   "name": "python",
   "nbconvert_exporter": "python",
   "pygments_lexer": "ipython3",
   "version": "3.5.2"
  }
 },
 "nbformat": 4,
 "nbformat_minor": 2
}
