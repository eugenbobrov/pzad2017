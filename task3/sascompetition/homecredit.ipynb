{
 "cells": [
  {
   "cell_type": "code",
   "execution_count": 1,
   "metadata": {
    "collapsed": false,
    "slideshow": {
     "slide_type": "slide"
    }
   },
   "outputs": [
    {
     "name": "stdout",
     "output_type": "stream",
     "text": [
      "Populating the interactive namespace from numpy and matplotlib\n"
     ]
    }
   ],
   "source": [
    "%pylab inline\n",
    "plt.style.use('bmh')\n",
    "import pandas as pd"
   ]
  },
  {
   "cell_type": "code",
   "execution_count": 12,
   "metadata": {
    "collapsed": false
   },
   "outputs": [
    {
     "data": {
      "text/plain": [
       "\"['AMT_ANNUITY',_'AMT_CREDIT_MAX_OVERDUE',_'AMT_CREDIT_SUM',_'AMT_CREDIT_SUM_DEBT',_'AMT_CREDIT_SUM_LIMIT',_'AMT_CREDIT_SUM_OVERDUE',_'AMT_REQ_SOURCE_YEAR',_'CNT_CREDIT_PROLONG',_'CREDIT_ACTIVE',_'CREDIT_DAY_OVERDUE',_'CREDIT_DELAY30',_'CREDIT_DELAY60',_'CREDIT_DELAY_MORE',_'CREDIT_FACILITY',_'CREDIT_SUM_TYPE',_'CREDIT_TYPE',_'DEF',_'DTIME_CREDIT',_'DTIME_CREDIT_ENDDATE',_'DTIME_CREDIT_ENDDATE_FACT',_'DTIME_CREDIT_UPDATE',_'ID',_'NUM_SOURCE',_'TEXT_PAYMENT_DISCIPLINE']\""
      ]
     },
     "execution_count": 12,
     "metadata": {},
     "output_type": "execute_result"
    }
   ],
   "source": [
    "str(['amt annuity', 'amt credit max overdue', 'amt credit sum',\n",
    "           'amt credit sum debt', 'amt credit sum limit', 'amt credit sum overdue',\n",
    "           'amt req source year', 'cnt credit prolong', 'credit active',\n",
    "           'credit day overdue', 'credit delay30', 'credit delay60', 'credit delay more',\n",
    "           'credit facility', 'credit sum type', 'credit type', 'def',\n",
    "           'dtime credit', 'dtime credit enddate', 'dtime credit enddate fact',\n",
    "           'dtime credit update', 'id', 'num source', 'text payment discipline']).upper().replace(' ', '_')"
   ]
  },
  {
   "cell_type": "code",
   "execution_count": 14,
   "metadata": {
    "collapsed": false
   },
   "outputs": [
    {
     "data": {
      "text/plain": [
       "Index(['amt annuity', 'amt credit max overdue', 'amt credit sum',\n",
       "       'amt credit sum debt', 'amt credit sum limit', 'amt credit sum overdue',\n",
       "       'amt req source day', 'amt req source hour', 'amt req source mon',\n",
       "       'amt req source qrt', 'amt req source week', 'amt req source year',\n",
       "       'cnt credit prolong', 'credit active', 'credit currency',\n",
       "       'credit day overdue', 'credit delay30', 'credit delay5',\n",
       "       'credit delay60', 'credit delay90', 'credit delay more',\n",
       "       'credit facility', 'credit sum type', 'credit type', 'def',\n",
       "       'dtime credit', 'dtime credit enddate', 'dtime credit enddate fact',\n",
       "       'dtime credit update', 'id', 'num source', 'sk date decision',\n",
       "       'text payment discipline'],\n",
       "      dtype='object')"
      ]
     },
     "execution_count": 14,
     "metadata": {},
     "output_type": "execute_result"
    }
   ],
   "source": [
    "data.columns"
   ]
  },
  {
   "cell_type": "code",
   "execution_count": 15,
   "metadata": {
    "collapsed": false
   },
   "outputs": [],
   "source": [
    "train_idxs = pd.read_csv('sample/train.csv', usecols=['ID'])['ID'].unique()\n",
    "test_idxs = pd.read_csv('sample/test.csv', usecols=['ID'])['ID'].unique()\n",
    "np.save('sample/train_idxs.npy', train_idxs)\n",
    "np.save('sample/test_idxs.npy', test_idxs)\n",
    "\n",
    "usecols = ['AMT_ANNUITY', 'AMT_CREDIT_MAX_OVERDUE', 'AMT_CREDIT_SUM', \n",
    "           'AMT_CREDIT_SUM_DEBT', 'AMT_CREDIT_SUM_LIMIT', 'AMT_CREDIT_SUM_OVERDUE', \n",
    "           'AMT_REQ_SOURCE_YEAR', 'CNT_CREDIT_PROLONG', 'CREDIT_ACTIVE',\n",
    "           'CREDIT_DAY_OVERDUE', 'CREDIT_DELAY30', 'CREDIT_DELAY60', \n",
    "           'CREDIT_DELAY_MORE', 'CREDIT_FACILITY', 'CREDIT_SUM_TYPE', 'CREDIT_TYPE', \n",
    "           'DTIME_CREDIT', 'DTIME_CREDIT_ENDDATE', 'DTIME_CREDIT_ENDDATE_FACT', \n",
    "           'DTIME_CREDIT_UPDATE', 'ID', 'NUM_SOURCE', 'TEXT_PAYMENT_DISCIPLINE']\n",
    "\n",
    "data = pd.read_csv('sample/test.csv', usecols=usecols).append(\n",
    "    pd.read_csv('sample/train.csv', usecols=usecols.append('DEF')))\n",
    "data.reset_index(drop=True, inplace=True)\n",
    "\n",
    "data['TEXT_PAYMENT_DISCIPLINE'] = (data['TEXT_PAYMENT_DISCIPLINE']\n",
    "    [data['TEXT_PAYMENT_DISCIPLINE'].notnull()].apply(len))"
   ]
  },
  {
   "cell_type": "code",
   "execution_count": 18,
   "metadata": {
    "collapsed": false
   },
   "outputs": [
    {
     "name": "stdout",
     "output_type": "stream",
     "text": [
      "CPU times: user 17min 44s, sys: 6.72 s, total: 17min 51s\n",
      "Wall time: 17min 50s\n"
     ]
    }
   ],
   "source": [
    "%%time\n",
    "first_key = ['ID', 'CREDIT_ACTIVE', 'DTIME_CREDIT',\n",
    "    'DTIME_CREDIT_ENDDATE', 'DTIME_CREDIT_ENDDATE_FACT']\n",
    "\n",
    "data = data[data['NUM_SOURCE'] == 1].groupby(first_key).median().merge(\n",
    "    data[data['NUM_SOURCE'] == 2].groupby(first_key).median(),\n",
    "    how='outer', left_index=True, right_index=True).merge(\n",
    "    data[data['NUM_SOURCE'] == 3].groupby(first_key).median(),\n",
    "    how='outer', left_index=True, right_index=True).merge(\n",
    "    data[data['NUM_SOURCE'] == 4].groupby(first_key).median(),\n",
    "    how='outer', left_index=True, right_index=True)\n",
    "\n",
    "data.columns = data.columns.map(lambda x: x[:-2])\n",
    "data = data.apply(lambda x: x.groupby(data.columns).median(), axis=1)\n",
    "data.drop('NUM_SOURCE', axis=1, inplace=True)\n",
    "data.to_csv('sample/data_merged.csv')"
   ]
  },
  {
   "cell_type": "code",
   "execution_count": 19,
   "metadata": {
    "collapsed": false
   },
   "outputs": [
    {
     "data": {
      "text/plain": [
       "(1483598, 31)"
      ]
     },
     "execution_count": 19,
     "metadata": {},
     "output_type": "execute_result"
    }
   ],
   "source": [
    "data = pd.read_csv('sample/data_merged.csv')\n",
    "data.shape"
   ]
  },
  {
   "cell_type": "code",
   "execution_count": 265,
   "metadata": {
    "collapsed": false
   },
   "outputs": [
    {
     "data": {
      "image/png": "[encoded data removed]",
      "text/plain": [
       "<matplotlib.figure.Figure at 0x7fcaf5136400>"
      ]
     },
     "metadata": {},
     "output_type": "display_data"
    }
   ],
   "source": [
    "plt.bar(('merge', 'append'), (data.shape[0], raw_shape))\n",
    "plt.xlabel('grouping method')\n",
    "plt.ylabel('count')\n",
    "plt.savefig('images/grouping.pdf')"
   ]
  },
  {
   "cell_type": "code",
   "execution_count": 190,
   "metadata": {
    "collapsed": true
   },
   "outputs": [],
   "source": [
    "train = data.reset_index().merge(pd.DataFrame([], index=train_idxs), left_on='id', right_index=True)\n",
    "test = data.reset_index().merge(pd.DataFrame([], index=test_idxs), left_on='id', right_index=True)"
   ]
  },
  {
   "cell_type": "code",
   "execution_count": 191,
   "metadata": {
    "collapsed": false
   },
   "outputs": [
    {
     "data": {
      "image/png": "[encoded data removed]",
      "text/plain": [
       "<matplotlib.figure.Figure at 0x7fcb4f7dbb38>"
      ]
     },
     "metadata": {},
     "output_type": "display_data"
    }
   ],
   "source": [
    "train.groupby('sk date decision')['def'].mean().plot.hist(bins=20)\n",
    "plt.vlines(0.03, 0, 30)\n",
    "plt.title('sk date decision')\n",
    "plt.xlabel('def')\n",
    "plt.ylabel('frequency')\n",
    "plt.savefig('images/sk_date_decision.pdf')"
   ]
  },
  {
   "cell_type": "code",
   "execution_count": 196,
   "metadata": {
    "collapsed": false
   },
   "outputs": [
    {
     "data": {
      "text/html": [
       "<div>\n",
       "<style>\n",
       "    .dataframe thead tr:only-child th {\n",
       "        text-align: right;\n",
       "    }\n",
       "\n",
       "    .dataframe thead th {\n",
       "        text-align: left;\n",
       "    }\n",
       "\n",
       "    .dataframe tbody tr th {\n",
       "        vertical-align: top;\n",
       "    }\n",
       "</style>\n",
       "<table border=\"1\" class=\"dataframe\">\n",
       "  <thead>\n",
       "    <tr style=\"text-align: right;\">\n",
       "      <th></th>\n",
       "      <th>id</th>\n",
       "    </tr>\n",
       "    <tr>\n",
       "      <th>sk date decision</th>\n",
       "      <th></th>\n",
       "    </tr>\n",
       "  </thead>\n",
       "  <tbody>\n",
       "    <tr>\n",
       "      <th>20160225.0</th>\n",
       "      <td>983</td>\n",
       "    </tr>\n",
       "    <tr>\n",
       "      <th>20160226.0</th>\n",
       "      <td>980</td>\n",
       "    </tr>\n",
       "    <tr>\n",
       "      <th>20160227.0</th>\n",
       "      <td>793</td>\n",
       "    </tr>\n",
       "    <tr>\n",
       "      <th>20160228.0</th>\n",
       "      <td>199</td>\n",
       "    </tr>\n",
       "    <tr>\n",
       "      <th>20160229.0</th>\n",
       "      <td>1075</td>\n",
       "    </tr>\n",
       "  </tbody>\n",
       "</table>\n",
       "</div>"
      ],
      "text/plain": [
       "                    id\n",
       "sk date decision      \n",
       "20160225.0         983\n",
       "20160226.0         980\n",
       "20160227.0         793\n",
       "20160228.0         199\n",
       "20160229.0        1075"
      ]
     },
     "execution_count": 196,
     "metadata": {},
     "output_type": "execute_result"
    }
   ],
   "source": [
    "train.groupby('sk date decision')[['id']].nunique().tail(5)"
   ]
  },
  {
   "cell_type": "code",
   "execution_count": 199,
   "metadata": {
    "collapsed": false
   },
   "outputs": [
    {
     "data": {
      "text/html": [
       "<div>\n",
       "<style>\n",
       "    .dataframe thead tr:only-child th {\n",
       "        text-align: right;\n",
       "    }\n",
       "\n",
       "    .dataframe thead th {\n",
       "        text-align: left;\n",
       "    }\n",
       "\n",
       "    .dataframe tbody tr th {\n",
       "        vertical-align: top;\n",
       "    }\n",
       "</style>\n",
       "<table border=\"1\" class=\"dataframe\">\n",
       "  <thead>\n",
       "    <tr style=\"text-align: right;\">\n",
       "      <th></th>\n",
       "      <th>id</th>\n",
       "    </tr>\n",
       "    <tr>\n",
       "      <th>sk date decision</th>\n",
       "      <th></th>\n",
       "    </tr>\n",
       "  </thead>\n",
       "  <tbody>\n",
       "    <tr>\n",
       "      <th>20160301.0</th>\n",
       "      <td>999</td>\n",
       "    </tr>\n",
       "    <tr>\n",
       "      <th>20160302.0</th>\n",
       "      <td>892</td>\n",
       "    </tr>\n",
       "    <tr>\n",
       "      <th>20160303.0</th>\n",
       "      <td>917</td>\n",
       "    </tr>\n",
       "    <tr>\n",
       "      <th>20160304.0</th>\n",
       "      <td>896</td>\n",
       "    </tr>\n",
       "    <tr>\n",
       "      <th>20160305.0</th>\n",
       "      <td>630</td>\n",
       "    </tr>\n",
       "  </tbody>\n",
       "</table>\n",
       "</div>"
      ],
      "text/plain": [
       "                   id\n",
       "sk date decision     \n",
       "20160301.0        999\n",
       "20160302.0        892\n",
       "20160303.0        917\n",
       "20160304.0        896\n",
       "20160305.0        630"
      ]
     },
     "execution_count": 199,
     "metadata": {},
     "output_type": "execute_result"
    }
   ],
   "source": [
    "test.groupby('sk date decision')[['id']].nunique().head(5)"
   ]
  },
  {
   "cell_type": "code",
   "execution_count": 134,
   "metadata": {
    "collapsed": false
   },
   "outputs": [
    {
     "data": {
      "text/plain": [
       "Float64Index([20160301.0, 20160302.0, 20160303.0, 20160304.0, 20160305.0], dtype='float64', name='sk date decision')"
      ]
     },
     "execution_count": 134,
     "metadata": {},
     "output_type": "execute_result"
    }
   ],
   "source": [
    "test.groupby('sk date decision')['id'].nunique().index.sort_values()[:5]"
   ]
  },
  {
   "cell_type": "code",
   "execution_count": 135,
   "metadata": {
    "collapsed": true
   },
   "outputs": [],
   "source": [
    "train.drop('sk date decision', axis=1, inplace=True)\n",
    "test.drop('sk date decision', axis=1, inplace=True)"
   ]
  },
  {
   "cell_type": "code",
   "execution_count": 143,
   "metadata": {
    "collapsed": true
   },
   "outputs": [],
   "source": [
    "from sklearn.metrics import roc_auc_score\n",
    "defs = train.groupby('id')['def'].max()"
   ]
  },
  {
   "cell_type": "code",
   "execution_count": 144,
   "metadata": {
    "collapsed": true
   },
   "outputs": [],
   "source": [
    "pay = train[['id','text payment discipline']].copy()\n",
    "pay.fillna(pay['text payment discipline'].mean(), inplace=True)"
   ]
  },
  {
   "cell_type": "code",
   "execution_count": 145,
   "metadata": {
    "collapsed": false
   },
   "outputs": [
    {
     "data": {
      "text/plain": [
       "0.56805002626057577"
      ]
     },
     "execution_count": 145,
     "metadata": {},
     "output_type": "execute_result"
    }
   ],
   "source": [
    "pay_mean = pay.groupby('id').mean()\n",
    "roc_auc_score(defs, -pay_mean)"
   ]
  },
  {
   "cell_type": "code",
   "execution_count": 146,
   "metadata": {
    "collapsed": false
   },
   "outputs": [
    {
     "data": {
      "text/plain": [
       "0.54504352792107991"
      ]
     },
     "execution_count": 146,
     "metadata": {},
     "output_type": "execute_result"
    }
   ],
   "source": [
    "pay_std = pay.groupby('id').std().fillna(0)\n",
    "roc_auc_score(defs, -pay_std)"
   ]
  },
  {
   "cell_type": "code",
   "execution_count": 224,
   "metadata": {
    "collapsed": false
   },
   "outputs": [
    {
     "data": {
      "text/plain": [
       "array([ 0.56805003,  0.54504353])"
      ]
     },
     "execution_count": 224,
     "metadata": {},
     "output_type": "execute_result"
    }
   ],
   "source": [
    "values"
   ]
  },
  {
   "cell_type": "code",
   "execution_count": 248,
   "metadata": {
    "collapsed": false
   },
   "outputs": [
    {
     "data": {
      "image/png": "[encoded data removed]",
      "text/plain": [
       "<matplotlib.figure.Figure at 0x7fcaf3dccc50>"
      ]
     },
     "metadata": {},
     "output_type": "display_data"
    }
   ],
   "source": [
    "values = np.abs(np.array((roc_auc_score(defs, -pay_mean), roc_auc_score(defs, -pay_std))))\n",
    "plt.ylabel('auc')\n",
    "plt.ylim(0.5, 0.57)\n",
    "plt.bar(('mean payment', 'std payment'), values)\n",
    "plt.savefig('images/meanstd_auc.pdf')"
   ]
  },
  {
   "cell_type": "code",
   "execution_count": 251,
   "metadata": {
    "collapsed": true
   },
   "outputs": [],
   "source": [
    "names = ['hour', 'day', 'week', 'mon', 'qrt', 'year']"
   ]
  },
  {
   "cell_type": "code",
   "execution_count": 252,
   "metadata": {
    "collapsed": true
   },
   "outputs": [],
   "source": [
    "rocs = [roc_auc_score(defs, -(train.groupby('id') \\\n",
    "    ['amt req source {}'.format(name)].sum() > 0).astype(int)) for name in names]\n",
    "rocs = np.abs(np.array(rocs))"
   ]
  },
  {
   "cell_type": "code",
   "execution_count": 254,
   "metadata": {
    "collapsed": false
   },
   "outputs": [
    {
     "data": {
      "text/plain": [
       "array([ 0.49952037,  0.50034122,  0.49946294,  0.49676301,  0.50137613,\n",
       "        0.51051476])"
      ]
     },
     "execution_count": 254,
     "metadata": {},
     "output_type": "execute_result"
    }
   ],
   "source": [
    "rocs"
   ]
  },
  {
   "cell_type": "code",
   "execution_count": 255,
   "metadata": {
    "collapsed": false
   },
   "outputs": [
    {
     "data": {
      "image/png": "[encoded data removed]",
      "text/plain": [
       "<matplotlib.figure.Figure at 0x7fcaf4583048>"
      ]
     },
     "metadata": {},
     "output_type": "display_data"
    }
   ],
   "source": [
    "plt.bar(names, rocs)\n",
    "plt.ylabel('auc')\n",
    "plt.ylim(0.5, 0.57)\n",
    "plt.xlabel('requests')\n",
    "plt.savefig('images/requests.pdf')"
   ]
  },
  {
   "cell_type": "code",
   "execution_count": 256,
   "metadata": {
    "collapsed": false
   },
   "outputs": [
    {
     "data": {
      "text/html": [
       "<div>\n",
       "<style>\n",
       "    .dataframe thead tr:only-child th {\n",
       "        text-align: right;\n",
       "    }\n",
       "\n",
       "    .dataframe thead th {\n",
       "        text-align: left;\n",
       "    }\n",
       "\n",
       "    .dataframe tbody tr th {\n",
       "        vertical-align: top;\n",
       "    }\n",
       "</style>\n",
       "<table border=\"1\" class=\"dataframe\">\n",
       "  <thead>\n",
       "    <tr style=\"text-align: right;\">\n",
       "      <th>def</th>\n",
       "      <th>0</th>\n",
       "      <th>1</th>\n",
       "    </tr>\n",
       "    <tr>\n",
       "      <th>credit currency</th>\n",
       "      <th></th>\n",
       "      <th></th>\n",
       "    </tr>\n",
       "  </thead>\n",
       "  <tbody>\n",
       "    <tr>\n",
       "      <th>0</th>\n",
       "      <td>748510</td>\n",
       "      <td>22998</td>\n",
       "    </tr>\n",
       "    <tr>\n",
       "      <th>1</th>\n",
       "      <td>979</td>\n",
       "      <td>30</td>\n",
       "    </tr>\n",
       "  </tbody>\n",
       "</table>\n",
       "</div>"
      ],
      "text/plain": [
       "def                   0      1\n",
       "credit currency               \n",
       "0                748510  22998\n",
       "1                   979     30"
      ]
     },
     "execution_count": 256,
     "metadata": {},
     "output_type": "execute_result"
    }
   ],
   "source": [
    "train['credit currency'] = train['credit currency'].apply(lambda x: 0 if x==0 else 1)\n",
    "train['def'] = train['def'].apply(lambda x: int(x))\n",
    "train.pivot_table('id', 'credit currency', 'def', 'count')"
   ]
  },
  {
   "cell_type": "code",
   "execution_count": 257,
   "metadata": {
    "collapsed": false
   },
   "outputs": [
    {
     "data": {
      "text/plain": [
       "0.50016769706527386"
      ]
     },
     "execution_count": 257,
     "metadata": {},
     "output_type": "execute_result"
    }
   ],
   "source": [
    "roc_auc_score(defs, -train.groupby('id')['credit currency'].sum())"
   ]
  },
  {
   "cell_type": "code",
   "execution_count": 258,
   "metadata": {
    "collapsed": true
   },
   "outputs": [],
   "source": [
    "rocs = list()\n",
    "rocs.append(roc_auc_score(defs, train.groupby('id')['credit delay5'].sum()))\n",
    "rocs.append(roc_auc_score(defs, train.groupby('id')['credit delay30'].sum()))\n",
    "rocs.append(roc_auc_score(defs, train.groupby('id')['credit delay60'].sum()))\n",
    "rocs.append(roc_auc_score(defs, train.groupby('id')['credit delay90'].sum()))\n",
    "rocs.append(roc_auc_score(defs, train.groupby('id') \\\n",
    "    [['credit delay30', 'credit delay60']].sum().sum(axis=1)))\n",
    "rocs = np.abs(np.array(rocs))"
   ]
  },
  {
   "cell_type": "code",
   "execution_count": 259,
   "metadata": {
    "collapsed": true
   },
   "outputs": [],
   "source": [
    "names = ('5', '30', '60', '90', '30+60')"
   ]
  },
  {
   "cell_type": "code",
   "execution_count": 260,
   "metadata": {
    "collapsed": false
   },
   "outputs": [
    {
     "data": {
      "image/png": "[encoded data removed]",
      "text/plain": [
       "<matplotlib.figure.Figure at 0x7fcaf2dd1898>"
      ]
     },
     "metadata": {},
     "output_type": "display_data"
    }
   ],
   "source": [
    "plt.bar(names, rocs)\n",
    "plt.ylabel('auc')\n",
    "plt.ylim(0.5, 0.57)\n",
    "plt.xlabel('delays')\n",
    "plt.savefig('images/delays.pdf')"
   ]
  }
 ],
 "metadata": {
  "anaconda-cloud": {},
  "kernelspec": {
   "display_name": "Python [default]",
   "language": "python",
   "name": "python3"
  },
  "language_info": {
   "codemirror_mode": {
    "name": "ipython",
    "version": 3
   },
   "file_extension": ".py",
   "mimetype": "text/x-python",
   "name": "python",
   "nbconvert_exporter": "python",
   "pygments_lexer": "ipython3",
   "version": "3.5.2"
  }
 },
 "nbformat": 4,
 "nbformat_minor": 2
}
