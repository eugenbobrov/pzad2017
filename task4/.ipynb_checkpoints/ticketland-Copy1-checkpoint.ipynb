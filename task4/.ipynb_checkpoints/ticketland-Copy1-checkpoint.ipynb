{
 "cells": [
  {
   "cell_type": "code",
   "execution_count": null,
   "metadata": {},
   "outputs": [
    {
     "name": "stdout",
     "output_type": "stream",
     "text": [
      "Populating the interactive namespace from numpy and matplotlib\n"
     ]
    }
   ],
   "source": [
    "%pylab inline\n",
    "import pandas as pd\n",
    "from scipy.sparse import csr_matrix\n",
    "from lightgbm import LGBMClassifier, plot_metric, plot_importance\n",
    "from sklearn.metrics import roc_auc_score\n",
    "from sklearn.model_selection import cross_val_score, StratifiedKFold, KFold"
   ]
  },
  {
   "cell_type": "code",
   "execution_count": null,
   "metadata": {},
   "outputs": [
    {
     "name": "stderr",
     "output_type": "stream",
     "text": [
      "/home/eugen/anaconda3/lib/python3.6/site-packages/numpy/lib/arraysetops.py:463: FutureWarning: elementwise comparison failed; returning scalar instead, but in the future will perform elementwise comparison\n",
      "  mask |= (ar1 == a)\n"
     ]
    }
   ],
   "source": [
    "%%time\n",
    "data = pd.read_csv('champ_10_datas/test.csv', index_col='id',\n",
    "    parse_dates=['event_datetime_m'], infer_datetime_format=True).append(\n",
    "    pd.read_csv('champ_10_datas/impressions.сsv', \n",
    "    parse_dates=['event_datetime_m'], infer_datetime_format=True))\n",
    "data.reset_index(drop=True, inplace=True)\n",
    "grouped = data.groupby(['id_user', 'id_show'])[['event_datetime_m']].max()\n",
    "merged = data.merge(grouped, left_on=['id_user', 'id_show'], right_index=True)\n",
    "diff_time = merged[['event_datetime_m_x','event_datetime_m_y']].diff(axis=1)['event_datetime_m_y']\n",
    "diff_time = diff_time.dt.seconds\n",
    "data['event_datetime_m'] = diff_time/diff_time.max()\n",
    "#data['rank'] = data['rank']*(np.sqrt(data['event_datetime_m']) + 1)\n",
    "data.head()"
   ]
  },
  {
   "cell_type": "code",
   "execution_count": null,
   "metadata": {},
   "outputs": [],
   "source": [
    "%%time\n",
    "show_rating = pd.read_csv('champ_10_datas/show_rating.сsv', \n",
    "    parse_dates=['date_time'], infer_datetime_format=True)\n",
    "date = show_rating['date_time']\n",
    "date = (date.max() - date).dt.days\n",
    "show_rating['date_time'] = date/date.max()\n",
    "show_rating = pd.merge(\n",
    "    show_rating.groupby('id_show').mean(),\n",
    "    show_rating.groupby('id_show').std(),\n",
    "    left_index=True, right_index=True, \n",
    "    suffixes=('_mean', '_std'))\n",
    "show_rating.head()"
   ]
  },
  {
   "cell_type": "code",
   "execution_count": null,
   "metadata": {},
   "outputs": [],
   "source": [
    "%%time\n",
    "client_data = pd.read_csv('champ_10_datas/client_data.сsv', index_col='id_user',\n",
    "        parse_dates=['create_datetime'], infer_datetime_format=True)\n",
    "date = client_data['create_datetime']\n",
    "date = (date.max() - date).dt.days\n",
    "client_data['create_datetime'] = date/date.max()\n",
    "client_data.loc[client_data['sex'] == 'male', 'sex'] = 1.0\n",
    "client_data.loc[client_data['sex'] == 'female', 'sex'] = 0.0\n",
    "client_data['sex'] = client_data['sex'].astype('float')\n",
    "client_data.loc[(client_data['age'] < 16) | (client_data['age'] > 80), 'age'] = None\n",
    "client_data.head()"
   ]
  },
  {
   "cell_type": "code",
   "execution_count": null,
   "metadata": {},
   "outputs": [],
   "source": [
    "%%time\n",
    "clicks_no_impressions = pd.read_csv('champ_10_datas/clicks_no_impressions.сsv', usecols=['id_show', 'id_user'])\n",
    "clicks_no_impressions = clicks_no_impressions.groupby(\n",
    "    ['id_show', 'id_user']).size().reset_index().rename_axis({0:'count'}, axis=1)\n",
    "clicks_no_impressions.head()"
   ]
  },
  {
   "cell_type": "code",
   "execution_count": null,
   "metadata": {},
   "outputs": [],
   "source": [
    "%%time\n",
    "show_data = pd.read_csv('champ_10_datas/show_data.сsv')\n",
    "show_data.drop(['parent_genre_id', 'child_genre_id',\n",
    "    'organizer_id', 'IdBuilding'], inplace=True, axis=1)\n",
    "show_data = show_data.groupby('id_show').first()\n",
    "show_data.head()"
   ]
  },
  {
   "cell_type": "code",
   "execution_count": null,
   "metadata": {},
   "outputs": [],
   "source": [
    "%%time\n",
    "data = data.merge(client_data, how='left', left_on='id_user', right_index=True).merge(\n",
    "    show_data, how='left', left_on='id_show', right_index=True).merge(\n",
    "    show_rating, how='left', left_on='id_show', right_index=True).merge(\n",
    "    clicks_no_impressions, how='left', on=['id_user', 'id_show']).drop(\n",
    "    ['id_show', 'id_user'], axis=1)"
   ]
  },
  {
   "cell_type": "code",
   "execution_count": null,
   "metadata": {},
   "outputs": [],
   "source": [
    "%%time\n",
    "train_labels = data.loc[data['is_clicked'].notnull(), 'is_clicked']\n",
    "train_objects = data.loc[data['is_clicked'].notnull()].drop('is_clicked', axis=1)\n",
    "test_objects = data.loc[data['is_clicked'].isnull()].drop(['is_clicked'], axis=1)"
   ]
  },
  {
   "cell_type": "code",
   "execution_count": null,
   "metadata": {},
   "outputs": [],
   "source": [
    "%%time\n",
    "model = LGBMClassifier(n_estimators=400, max_depth=2)\n",
    "cv_score = cross_val_score(model, train_objects, train_labels,\n",
    "    scoring='neg_log_loss', cv=StratifiedKFold(n_splits=5, shuffle=True)).mean()\n",
    "cv_score"
   ]
  },
  {
   "cell_type": "code",
   "execution_count": null,
   "metadata": {},
   "outputs": [],
   "source": [
    "cv_score"
   ]
  },
  {
   "cell_type": "code",
   "execution_count": null,
   "metadata": {},
   "outputs": [],
   "source": [
    "%%time\n",
    "model = LGBMClassifier(n_estimators=400, max_depth=2)\n",
    "model.fit(train_objects, train_labels)\n",
    "\n",
    "importances = list()\n",
    "for j, name in enumerate(train_objects.columns):\n",
    "    idxs = train_objects[name].notnull()\n",
    "    score = roc_auc_score(train_labels[idxs], train_objects.loc[idxs, name])\n",
    "    importances.append((name, model.feature_importances_[j], abs(score - 0.5)*100))\n",
    "importances = pd.DataFrame(np.array(importances)[:, 1:], np.array(importances)[:, 0])\n",
    "importances.rename_axis({0: 'splits', 1:'auc'}, axis=1, inplace=True)\n",
    "importances"
   ]
  },
  {
   "cell_type": "code",
   "execution_count": null,
   "metadata": {},
   "outputs": [],
   "source": [
    "pred_labels = model.predict_proba(test_objects)[:, 1]\n",
    "submit = pd.DataFrame(pred_labels).rename_axis({0:'_VAL_'}, axis=1)\n",
    "submit.index.name = '_ID_'\n",
    "submit.to_csv('second.csv')"
   ]
  }
 ],
 "metadata": {
  "kernelspec": {
   "display_name": "Python 3",
   "language": "python",
   "name": "python3"
  },
  "language_info": {
   "codemirror_mode": {
    "name": "ipython",
    "version": 3
   },
   "file_extension": ".py",
   "mimetype": "text/x-python",
   "name": "python",
   "nbconvert_exporter": "python",
   "pygments_lexer": "ipython3",
   "version": "3.6.2"
  },
  "widgets": {
   "state": {},
   "version": "1.1.2"
  }
 },
 "nbformat": 4,
 "nbformat_minor": 2
}
