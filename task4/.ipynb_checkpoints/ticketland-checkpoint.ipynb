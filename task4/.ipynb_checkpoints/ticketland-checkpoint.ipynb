{
 "cells": [
  {
   "cell_type": "code",
   "execution_count": 6,
   "metadata": {},
   "outputs": [
    {
     "name": "stdout",
     "output_type": "stream",
     "text": [
      "Populating the interactive namespace from numpy and matplotlib\n"
     ]
    }
   ],
   "source": [
    "%pylab inline\n",
    "import pandas as pd\n",
    "from lightgbm import LGBMClassifier, plot_metric, plot_importance\n",
    "from sklearn.metrics import roc_auc_score\n",
    "from sklearn.model_selection import cross_val_score, StratifiedKFold"
   ]
  },
  {
   "cell_type": "code",
   "execution_count": 32,
   "metadata": {},
   "outputs": [
    {
     "name": "stderr",
     "output_type": "stream",
     "text": [
      "/home/ubuntu/anaconda3/lib/python3.5/site-packages/numpy/lib/arraysetops.py:463: FutureWarning: elementwise comparison failed; returning scalar instead, but in the future will perform elementwise comparison\n",
      "  mask |= (ar1 == a)\n"
     ]
    },
    {
     "name": "stdout",
     "output_type": "stream",
     "text": [
      "CPU times: user 52.5 s, sys: 2.35 s, total: 54.8 s\n",
      "Wall time: 54.8 s\n"
     ]
    }
   ],
   "source": [
    "%%time\n",
    "data = pd.read_csv('champ_10_datas/impressions.сsv', \n",
    "    parse_dates=['event_datetime_m'], infer_datetime_format=True)\n",
    "\n",
    "grouped = data.groupby(['id_show', 'id_user']).size()\n",
    "bot = grouped[grouped > 10000].index.get_level_values('id_user')[0]\n",
    "data = data[data['id_user'] != bot]\n",
    "\n",
    "data = data.merge(grouped[grouped > 380].reset_index(),\n",
    "    how='left', on=['id_show', 'id_user'])\n",
    "data = data[data[0].isnull()].drop(0, axis=1)\n",
    "\n",
    "bot = data.groupby(['id_user', 'id_show', 'event_datetime_m']).size().idxmax()\n",
    "data = data[~((data['id_user'] == bot[0]) & \n",
    "    (data['id_show'] == bot[1]) & (data['event_datetime_m'] == bot[2]))]\n",
    "\n",
    "data = pd.read_csv('champ_10_datas/test.csv', index_col='id',\n",
    "    parse_dates=['event_datetime_m'], infer_datetime_format=True).append(data)\n",
    "\n",
    "data.reset_index(drop=True, inplace=True)\n",
    "\n",
    "data['event_hour'] = data['event_datetime_m'].dt.hour\n",
    "data['event_day'] = data['event_datetime_m'].dt.dayofweek\n",
    "\n",
    "data['order'] = np.ones(len(data))\n",
    "desc = data.sort_values('event_datetime_m', ascending=False).groupby(\n",
    "    ['id_user', 'id_show'])[['order']].cumsum().rename(columns={'order':'desc'})\n",
    "asc = data.sort_values('event_datetime_m', ascending=True).groupby(\n",
    "    ['id_user', 'id_show'])[['order']].cumsum().rename(columns={'order':'asc'})\n",
    "data = data.merge(desc, left_index=True, right_index=True).merge(\n",
    "    asc, left_index=True, right_index=True).drop('order', axis=1)\n",
    "\n",
    "grouped = data.groupby(['id_user', 'id_show'])[['event_datetime_m']].max()\n",
    "merged = data.merge(grouped, left_on=['id_user', 'id_show'], right_index=True)\n",
    "diff_time = merged[['event_datetime_m_x', 'event_datetime_m_y']].diff(axis=1)['event_datetime_m_y']\n",
    "data['delta_event_time'] = diff_time.dt.seconds\n",
    "\n",
    "one_minute = data.groupby(['id_user', 'id_show', \n",
    "    'event_datetime_m']).size().reset_index().rename(columns={0:'one_minute'})\n",
    "data = data.merge(one_minute, how='left', on=['id_user', 'id_show', 'event_datetime_m'])\n",
    "\n",
    "data = data.sort_values('event_datetime_m').drop('event_datetime_m', axis=1)"
   ]
  },
  {
   "cell_type": "code",
   "execution_count": 3,
   "metadata": {},
   "outputs": [
    {
     "name": "stdout",
     "output_type": "stream",
     "text": [
      "CPU times: user 52.2 s, sys: 496 ms, total: 52.7 s\n",
      "Wall time: 52.6 s\n"
     ]
    }
   ],
   "source": [
    "%%time\n",
    "show_rating = pd.read_csv('champ_10_datas/show_rating.сsv', \n",
    "    parse_dates=['date_time'], infer_datetime_format=True)\n",
    "date = show_rating['date_time']\n",
    "show_rating['date_time'] = (date.max() - date).dt.days\n",
    "show_rating = pd.merge(\n",
    "    show_rating.groupby('id_show').mean(),\n",
    "    show_rating.groupby('id_show').std(),\n",
    "    left_index=True, right_index=True, \n",
    "    suffixes=('_mean', '_std'))"
   ]
  },
  {
   "cell_type": "code",
   "execution_count": 4,
   "metadata": {},
   "outputs": [
    {
     "name": "stdout",
     "output_type": "stream",
     "text": [
      "CPU times: user 1.39 s, sys: 12 ms, total: 1.4 s\n",
      "Wall time: 1.4 s\n"
     ]
    }
   ],
   "source": [
    "%%time\n",
    "client_data = pd.read_csv('champ_10_datas/client_data.сsv', index_col='id_user',\n",
    "        parse_dates=['create_datetime'], infer_datetime_format=True)\n",
    "date = client_data['create_datetime']\n",
    "client_data['create_datetime'] = (date.max() - date).dt.days\n",
    "client_data.loc[client_data['sex'] == 'male', 'sex'] = 1.0\n",
    "client_data.loc[client_data['sex'] == 'female', 'sex'] = 0.0\n",
    "client_data['sex'] = client_data['sex'].astype('float')\n",
    "client_data.loc[(client_data['age'] < 16) | (client_data['age'] > 80), 'age'] = None"
   ]
  },
  {
   "cell_type": "code",
   "execution_count": 5,
   "metadata": {},
   "outputs": [
    {
     "name": "stdout",
     "output_type": "stream",
     "text": [
      "CPU times: user 40 ms, sys: 0 ns, total: 40 ms\n",
      "Wall time: 41.3 ms\n"
     ]
    }
   ],
   "source": [
    "%%time\n",
    "show_data = pd.read_csv('champ_10_datas/show_data.сsv')\n",
    "show_data.drop(['parent_genre_id', 'child_genre_id', 'organizer_id'], inplace=True, axis=1)\n",
    "buildings = show_data.groupby('id_show')['IdBuilding'].size()\n",
    "show_data = show_data.groupby('id_show').first()\n",
    "show_data['IdBuilding'] = buildings\n",
    "show_data.rename(columns={'IdBuilding':'buildings'}, inplace=True)"
   ]
  },
  {
   "cell_type": "code",
   "execution_count": 19,
   "metadata": {},
   "outputs": [
    {
     "name": "stdout",
     "output_type": "stream",
     "text": [
      "CPU times: user 11.5 s, sys: 648 ms, total: 12.1 s\n",
      "Wall time: 12.1 s\n"
     ]
    }
   ],
   "source": [
    "%%time\n",
    "no_impressions = pd.read_csv('champ_10_datas/clicks_no_impressions.сsv',\n",
    "    usecols=['id_show', 'id_user']).drop_duplicates()\n",
    "no_impressions['no_impressions'] = np.ones(len(no_impressions))"
   ]
  },
  {
   "cell_type": "code",
   "execution_count": 33,
   "metadata": {},
   "outputs": [
    {
     "name": "stdout",
     "output_type": "stream",
     "text": [
      "CPU times: user 4.49 s, sys: 1.2 s, total: 5.68 s\n",
      "Wall time: 5.68 s\n"
     ]
    }
   ],
   "source": [
    "%%time\n",
    "data = data.merge(client_data, how='left', left_on='id_user', right_index=True).merge(\n",
    "    show_data, how='left', left_on='id_show', right_index=True).merge(\n",
    "    show_rating, how='left', left_on='id_show', right_index=True).merge(\n",
    "    no_impressions, how='left', on=['id_user', 'id_show']).drop(\n",
    "    ['id_show', 'id_user'], axis=1)\n",
    "data['no_impressions'].fillna(0, inplace=True)"
   ]
  },
  {
   "cell_type": "code",
   "execution_count": 59,
   "metadata": {},
   "outputs": [
    {
     "name": "stdout",
     "output_type": "stream",
     "text": [
      "CPU times: user 524 ms, sys: 292 ms, total: 816 ms\n",
      "Wall time: 814 ms\n"
     ]
    }
   ],
   "source": [
    "%%time\n",
    "train_labels = data.loc[data['is_clicked'].notnull(), 'is_clicked']\n",
    "train_objects = data.loc[data['is_clicked'].notnull()].drop('is_clicked', axis=1)\n",
    "test_objects = data.loc[data['is_clicked'].isnull()].drop(['is_clicked'], axis=1)"
   ]
  },
  {
   "cell_type": "code",
   "execution_count": 66,
   "metadata": {},
   "outputs": [],
   "source": [
    "m = len(train_objects)\n",
    "val_train_objects, val_train_labels = train_objects[:int(0.8*m)], train_labels[:int(0.8*m)]\n",
    "val_test_objects, val_test_labels = train_objects[int(0.8*m):], train_labels[int(0.8*m):]"
   ]
  },
  {
   "cell_type": "code",
   "execution_count": 76,
   "metadata": {},
   "outputs": [
    {
     "name": "stdout",
     "output_type": "stream",
     "text": [
      "[1]\tvalid_0's binary_logloss: 0.60934\n",
      "[2]\tvalid_0's binary_logloss: 0.540699\n",
      "[3]\tvalid_0's binary_logloss: 0.483551\n",
      "[4]\tvalid_0's binary_logloss: 0.435295\n",
      "[5]\tvalid_0's binary_logloss: 0.394197\n",
      "[6]\tvalid_0's binary_logloss: 0.35887\n",
      "[7]\tvalid_0's binary_logloss: 0.328344\n",
      "[8]\tvalid_0's binary_logloss: 0.301802\n",
      "[9]\tvalid_0's binary_logloss: 0.27863\n",
      "[10]\tvalid_0's binary_logloss: 0.258334\n",
      "[11]\tvalid_0's binary_logloss: 0.240485\n",
      "[12]\tvalid_0's binary_logloss: 0.224759\n",
      "[13]\tvalid_0's binary_logloss: 0.21087\n",
      "[14]\tvalid_0's binary_logloss: 0.198573\n",
      "[15]\tvalid_0's binary_logloss: 0.187673\n",
      "[16]\tvalid_0's binary_logloss: 0.177983\n",
      "[17]\tvalid_0's binary_logloss: 0.169376\n",
      "[18]\tvalid_0's binary_logloss: 0.16171\n",
      "[19]\tvalid_0's binary_logloss: 0.154874\n",
      "[20]\tvalid_0's binary_logloss: 0.148764\n",
      "[21]\tvalid_0's binary_logloss: 0.143317\n",
      "[22]\tvalid_0's binary_logloss: 0.138417\n",
      "[23]\tvalid_0's binary_logloss: 0.134035\n",
      "[24]\tvalid_0's binary_logloss: 0.130143\n",
      "[25]\tvalid_0's binary_logloss: 0.126624\n",
      "[26]\tvalid_0's binary_logloss: 0.12351\n",
      "[27]\tvalid_0's binary_logloss: 0.120754\n",
      "[28]\tvalid_0's binary_logloss: 0.118239\n",
      "[29]\tvalid_0's binary_logloss: 0.115992\n",
      "[30]\tvalid_0's binary_logloss: 0.113993\n",
      "[31]\tvalid_0's binary_logloss: 0.112176\n",
      "[32]\tvalid_0's binary_logloss: 0.110489\n",
      "[33]\tvalid_0's binary_logloss: 0.109043\n",
      "[34]\tvalid_0's binary_logloss: 0.107706\n",
      "[35]\tvalid_0's binary_logloss: 0.106523\n",
      "[36]\tvalid_0's binary_logloss: 0.105409\n",
      "[37]\tvalid_0's binary_logloss: 0.104452\n",
      "[38]\tvalid_0's binary_logloss: 0.103528\n",
      "[39]\tvalid_0's binary_logloss: 0.102784\n",
      "[40]\tvalid_0's binary_logloss: 0.102069\n",
      "[41]\tvalid_0's binary_logloss: 0.101444\n",
      "[42]\tvalid_0's binary_logloss: 0.100861\n",
      "[43]\tvalid_0's binary_logloss: 0.100314\n",
      "[44]\tvalid_0's binary_logloss: 0.0998689\n",
      "[45]\tvalid_0's binary_logloss: 0.0994434\n",
      "[46]\tvalid_0's binary_logloss: 0.0990805\n",
      "[47]\tvalid_0's binary_logloss: 0.0987812\n",
      "[48]\tvalid_0's binary_logloss: 0.0985256\n",
      "[49]\tvalid_0's binary_logloss: 0.0982504\n",
      "[50]\tvalid_0's binary_logloss: 0.0980017\n",
      "[51]\tvalid_0's binary_logloss: 0.0977892\n",
      "[52]\tvalid_0's binary_logloss: 0.0975848\n",
      "[53]\tvalid_0's binary_logloss: 0.097414\n",
      "[54]\tvalid_0's binary_logloss: 0.0972883\n",
      "[55]\tvalid_0's binary_logloss: 0.097136\n",
      "[56]\tvalid_0's binary_logloss: 0.0970076\n",
      "[57]\tvalid_0's binary_logloss: 0.0969012\n",
      "[58]\tvalid_0's binary_logloss: 0.0967927\n",
      "[59]\tvalid_0's binary_logloss: 0.0966906\n",
      "[60]\tvalid_0's binary_logloss: 0.0966123\n",
      "[61]\tvalid_0's binary_logloss: 0.0965094\n",
      "[62]\tvalid_0's binary_logloss: 0.0964556\n",
      "[63]\tvalid_0's binary_logloss: 0.0963875\n",
      "[64]\tvalid_0's binary_logloss: 0.0963513\n",
      "[65]\tvalid_0's binary_logloss: 0.0963058\n",
      "[66]\tvalid_0's binary_logloss: 0.09626\n",
      "[67]\tvalid_0's binary_logloss: 0.0961819\n",
      "[68]\tvalid_0's binary_logloss: 0.0961301\n",
      "[69]\tvalid_0's binary_logloss: 0.0960931\n",
      "[70]\tvalid_0's binary_logloss: 0.096038\n",
      "[71]\tvalid_0's binary_logloss: 0.0960096\n",
      "[72]\tvalid_0's binary_logloss: 0.0959798\n",
      "[73]\tvalid_0's binary_logloss: 0.0959624\n",
      "[74]\tvalid_0's binary_logloss: 0.0959244\n",
      "[75]\tvalid_0's binary_logloss: 0.0958888\n",
      "[76]\tvalid_0's binary_logloss: 0.0958749\n",
      "[77]\tvalid_0's binary_logloss: 0.0958494\n",
      "[78]\tvalid_0's binary_logloss: 0.0958162\n",
      "[79]\tvalid_0's binary_logloss: 0.0957899\n",
      "[80]\tvalid_0's binary_logloss: 0.0957777\n",
      "[81]\tvalid_0's binary_logloss: 0.0957588\n",
      "[82]\tvalid_0's binary_logloss: 0.0957307\n",
      "[83]\tvalid_0's binary_logloss: 0.0956963\n",
      "[84]\tvalid_0's binary_logloss: 0.0956614\n",
      "[85]\tvalid_0's binary_logloss: 0.0956496\n",
      "[86]\tvalid_0's binary_logloss: 0.0955612\n",
      "[87]\tvalid_0's binary_logloss: 0.0955461\n",
      "[88]\tvalid_0's binary_logloss: 0.0955401\n",
      "[89]\tvalid_0's binary_logloss: 0.0955483\n",
      "[90]\tvalid_0's binary_logloss: 0.0954831\n",
      "[91]\tvalid_0's binary_logloss: 0.0954615\n",
      "[92]\tvalid_0's binary_logloss: 0.095474\n",
      "[93]\tvalid_0's binary_logloss: 0.0954654\n",
      "[94]\tvalid_0's binary_logloss: 0.0954422\n",
      "[95]\tvalid_0's binary_logloss: 0.0954068\n",
      "[96]\tvalid_0's binary_logloss: 0.0953743\n",
      "[97]\tvalid_0's binary_logloss: 0.0953309\n",
      "[98]\tvalid_0's binary_logloss: 0.0953181\n",
      "[99]\tvalid_0's binary_logloss: 0.0953054\n",
      "[100]\tvalid_0's binary_logloss: 0.0953161\n",
      "[101]\tvalid_0's binary_logloss: 0.0952817\n",
      "[102]\tvalid_0's binary_logloss: 0.0952637\n",
      "[103]\tvalid_0's binary_logloss: 0.0952357\n",
      "[104]\tvalid_0's binary_logloss: 0.0952078\n",
      "[105]\tvalid_0's binary_logloss: 0.0951982\n",
      "[106]\tvalid_0's binary_logloss: 0.0952077\n",
      "[107]\tvalid_0's binary_logloss: 0.0951978\n",
      "[108]\tvalid_0's binary_logloss: 0.0951702\n",
      "[109]\tvalid_0's binary_logloss: 0.0951427\n",
      "[110]\tvalid_0's binary_logloss: 0.0951207\n",
      "[111]\tvalid_0's binary_logloss: 0.0950913\n",
      "[112]\tvalid_0's binary_logloss: 0.0950945\n",
      "[113]\tvalid_0's binary_logloss: 0.0950939\n",
      "[114]\tvalid_0's binary_logloss: 0.0951026\n",
      "[115]\tvalid_0's binary_logloss: 0.095092\n",
      "[116]\tvalid_0's binary_logloss: 0.0950775\n",
      "[117]\tvalid_0's binary_logloss: 0.0950441\n",
      "[118]\tvalid_0's binary_logloss: 0.0950312\n",
      "[119]\tvalid_0's binary_logloss: 0.0950229\n",
      "[120]\tvalid_0's binary_logloss: 0.0950296\n",
      "[121]\tvalid_0's binary_logloss: 0.0950139\n",
      "[122]\tvalid_0's binary_logloss: 0.0950012\n",
      "[123]\tvalid_0's binary_logloss: 0.0949935\n",
      "[124]\tvalid_0's binary_logloss: 0.0949827\n",
      "[125]\tvalid_0's binary_logloss: 0.094957\n",
      "[126]\tvalid_0's binary_logloss: 0.0949514\n",
      "[127]\tvalid_0's binary_logloss: 0.0949714\n",
      "[128]\tvalid_0's binary_logloss: 0.0949212\n",
      "[129]\tvalid_0's binary_logloss: 0.0949087\n",
      "[130]\tvalid_0's binary_logloss: 0.0948903\n",
      "[131]\tvalid_0's binary_logloss: 0.0948664\n",
      "[132]\tvalid_0's binary_logloss: 0.0948597\n",
      "[133]\tvalid_0's binary_logloss: 0.0948539\n",
      "[134]\tvalid_0's binary_logloss: 0.09485\n",
      "[135]\tvalid_0's binary_logloss: 0.0948516\n",
      "[136]\tvalid_0's binary_logloss: 0.0948425\n",
      "[137]\tvalid_0's binary_logloss: 0.0948272\n",
      "[138]\tvalid_0's binary_logloss: 0.0948137\n",
      "[139]\tvalid_0's binary_logloss: 0.0948182\n",
      "[140]\tvalid_0's binary_logloss: 0.0948146\n",
      "[141]\tvalid_0's binary_logloss: 0.0948042\n",
      "[142]\tvalid_0's binary_logloss: 0.0947953\n",
      "[143]\tvalid_0's binary_logloss: 0.0947845\n",
      "[144]\tvalid_0's binary_logloss: 0.094771\n",
      "[145]\tvalid_0's binary_logloss: 0.0947658\n",
      "[146]\tvalid_0's binary_logloss: 0.09476\n",
      "[147]\tvalid_0's binary_logloss: 0.0947658\n",
      "[148]\tvalid_0's binary_logloss: 0.0947553\n",
      "[149]\tvalid_0's binary_logloss: 0.0947375\n",
      "[150]\tvalid_0's binary_logloss: 0.0947119\n",
      "[151]\tvalid_0's binary_logloss: 0.0946911\n",
      "[152]\tvalid_0's binary_logloss: 0.0947071\n",
      "[153]\tvalid_0's binary_logloss: 0.0947038\n",
      "[154]\tvalid_0's binary_logloss: 0.0946958\n",
      "[155]\tvalid_0's binary_logloss: 0.0946921\n",
      "[156]\tvalid_0's binary_logloss: 0.0946835\n",
      "[157]\tvalid_0's binary_logloss: 0.0946722\n",
      "[158]\tvalid_0's binary_logloss: 0.094686\n",
      "[159]\tvalid_0's binary_logloss: 0.0946676\n",
      "[160]\tvalid_0's binary_logloss: 0.0946572\n",
      "[161]\tvalid_0's binary_logloss: 0.09464\n",
      "[162]\tvalid_0's binary_logloss: 0.0946345\n",
      "[163]\tvalid_0's binary_logloss: 0.0946368\n",
      "[164]\tvalid_0's binary_logloss: 0.0946322\n",
      "[165]\tvalid_0's binary_logloss: 0.0946263\n",
      "[166]\tvalid_0's binary_logloss: 0.094647\n",
      "[167]\tvalid_0's binary_logloss: 0.0946389\n",
      "[168]\tvalid_0's binary_logloss: 0.0946219\n",
      "[169]\tvalid_0's binary_logloss: 0.0946272\n",
      "[170]\tvalid_0's binary_logloss: 0.0946249\n",
      "[171]\tvalid_0's binary_logloss: 0.0946172\n",
      "[172]\tvalid_0's binary_logloss: 0.0946088\n",
      "[173]\tvalid_0's binary_logloss: 0.0946055\n",
      "[174]\tvalid_0's binary_logloss: 0.0946268\n",
      "[175]\tvalid_0's binary_logloss: 0.0946153\n",
      "[176]\tvalid_0's binary_logloss: 0.0946099\n",
      "[177]\tvalid_0's binary_logloss: 0.094607\n",
      "[178]\tvalid_0's binary_logloss: 0.0946129\n",
      "[179]\tvalid_0's binary_logloss: 0.0946296\n",
      "[180]\tvalid_0's binary_logloss: 0.094629\n",
      "[181]\tvalid_0's binary_logloss: 0.0946233\n",
      "[182]\tvalid_0's binary_logloss: 0.0946418\n",
      "[183]\tvalid_0's binary_logloss: 0.0946377\n",
      "[184]\tvalid_0's binary_logloss: 0.0946158\n",
      "[185]\tvalid_0's binary_logloss: 0.0946152\n",
      "[186]\tvalid_0's binary_logloss: 0.0946005\n",
      "[187]\tvalid_0's binary_logloss: 0.0945938\n",
      "[188]\tvalid_0's binary_logloss: 0.0945888\n",
      "[189]\tvalid_0's binary_logloss: 0.0945842\n",
      "[190]\tvalid_0's binary_logloss: 0.0945846\n",
      "[191]\tvalid_0's binary_logloss: 0.0945718\n",
      "[192]\tvalid_0's binary_logloss: 0.0945711\n",
      "[193]\tvalid_0's binary_logloss: 0.0945813\n",
      "[194]\tvalid_0's binary_logloss: 0.0945806\n",
      "[195]\tvalid_0's binary_logloss: 0.0945604\n",
      "[196]\tvalid_0's binary_logloss: 0.0945469\n",
      "[197]\tvalid_0's binary_logloss: 0.0945398\n",
      "[198]\tvalid_0's binary_logloss: 0.0945381\n",
      "[199]\tvalid_0's binary_logloss: 0.0945312\n",
      "[200]\tvalid_0's binary_logloss: 0.0945158\n",
      "CPU times: user 3min 27s, sys: 3.11 s, total: 3min 30s\n",
      "Wall time: 32.4 s\n"
     ]
    }
   ],
   "source": [
    "%%time\n",
    "model = LGBMClassifier(n_estimators=200, max_depth=4)\n",
    "model.fit(val_train_objects, val_train_labels, eval_set=(val_test_objects, val_test_labels))"
   ]
  },
  {
   "cell_type": "code",
   "execution_count": 78,
   "metadata": {},
   "outputs": [
    {
     "name": "stdout",
     "output_type": "stream",
     "text": [
      "CPU times: user 3min 48s, sys: 776 ms, total: 3min 49s\n",
      "Wall time: 33.7 s\n"
     ]
    }
   ],
   "source": [
    "%%time\n",
    "model = LGBMClassifier(n_estimators=200, max_depth=4)\n",
    "model.fit(train_objects, train_labels)"
   ]
  },
  {
   "cell_type": "code",
   "execution_count": 79,
   "metadata": {},
   "outputs": [],
   "source": [
    "importances = list()\n",
    "for j, name in enumerate(train_objects.columns):\n",
    "    idxs = train_objects[name].notnull()\n",
    "    auc = roc_auc_score(train_labels[idxs], train_objects.loc[idxs, name])\n",
    "    cor = np.corrcoef(train_labels[idxs], train_objects.loc[idxs, name])[0, 1] * 100\n",
    "    importances.append((name, model.feature_importances_[j], abs(auc - 0.5) * 100, cor))\n",
    "importances = pd.DataFrame(np.array(importances)[:, 1:], np.array(importances)[:, 0])\n",
    "importances.rename(columns={0: 'splits', 1:'auc', 2:'cor'}, inplace=True)\n",
    "importances.sort_values(['auc', 'cor', 'splits'], inplace=True)\n",
    "importances.to_csv('importances.csv')"
   ]
  },
  {
   "cell_type": "code",
   "execution_count": 81,
   "metadata": {},
   "outputs": [
    {
     "name": "stdout",
     "output_type": "stream",
     "text": [
      "CPU times: user 13 s, sys: 40 ms, total: 13.1 s\n",
      "Wall time: 1.96 s\n"
     ]
    }
   ],
   "source": [
    "%%time\n",
    "pred_labels = model.predict_proba(test_objects)[:, 1]\n",
    "submit = pd.DataFrame(pred_labels).rename(columns={0:'_VAL_'})\n",
    "submit.index.name = '_ID_'"
   ]
  },
  {
   "cell_type": "code",
   "execution_count": 83,
   "metadata": {
    "collapsed": true
   },
   "outputs": [],
   "source": [
    "submit.to_csv('submit.csv')"
   ]
  }
 ],
 "metadata": {
  "anaconda-cloud": {},
  "kernelspec": {
   "display_name": "Python 3",
   "language": "python",
   "name": "python3"
  },
  "language_info": {
   "codemirror_mode": {
    "name": "ipython",
    "version": 3
   },
   "file_extension": ".py",
   "mimetype": "text/x-python",
   "name": "python",
   "nbconvert_exporter": "python",
   "pygments_lexer": "ipython3",
   "version": "3.6.2"
  },
  "widgets": {
   "state": {},
   "version": "1.1.2"
  }
 },
 "nbformat": 4,
 "nbformat_minor": 2
}
