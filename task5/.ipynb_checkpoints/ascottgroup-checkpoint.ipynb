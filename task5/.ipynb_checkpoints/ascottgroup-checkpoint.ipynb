{
 "cells": [
  {
   "cell_type": "code",
   "execution_count": 1,
   "metadata": {},
   "outputs": [],
   "source": [
    "import pandas as pd\n",
    "\n",
    "from sklearn.preprocessing import OneHotEncoder\n",
    "from sklearn.linear_model import Ridge\n",
    "from lightgbm import LGBMRegressor"
   ]
  },
  {
   "cell_type": "markdown",
   "metadata": {},
   "source": [
    "### Preprocess"
   ]
  },
  {
   "cell_type": "code",
   "execution_count": 2,
   "metadata": {},
   "outputs": [],
   "source": [
    "data = pd.read_csv('sample/train_set_weeks.csv', index_col='id')\n",
    "categorical = ['idFilial', 'KanalDB', 'idSubGrp']\n",
    "\n",
    "test = pd.read_csv('sample/test_set_weeks.csv', index_col='id')\n",
    "test = test.groupby(categorical).head(1)\n",
    "\n",
    "data = data.append(test).reset_index(drop=True).sort_values('N wk')\n",
    "data.index.name = 'id'\n",
    "\n",
    "data['previous'] = data.groupby(categorical)['value'].shift(1)\n",
    "data = data.dropna(subset=['previous']).sort_index()\n",
    "grouped = data.groupby(categorical)['previous']\n",
    "\n",
    "for j in range(2, 10):\n",
    "    rolled = grouped.rolling(j)\n",
    "    ravg = rolled.mean().reset_index()\n",
    "    ravg = ravg.set_index('id').sort_index()\n",
    "    data['avg{}'.format(j)] = ravg['previous']\n",
    "    \n",
    "for j in range(3, 10):\n",
    "    rolled = grouped.rolling(j)\n",
    "    rstd = rolled.std().reset_index()\n",
    "    rstd = rstd.set_index('id').sort_index()\n",
    "    data['std{}'.format(j)] = rstd['previous']\n",
    "    \n",
    "cumulative = ['avg2', 'avg3', 'avg4', 'avg5', 'avg6', 'avg7', 'avg8',\n",
    "    'avg9', 'std3', 'std4', 'std5', 'std6', 'std7', 'std8', 'std9']\n",
    "data = data.dropna(subset=cumulative).drop(['N wk', 'wk'], axis=1)\n",
    "\n",
    "test_categorical = test[categorical]\n",
    "train_labels = data.loc[data['value'].notnull(), 'value']\n",
    "test = data[data['value'].isnull()].drop('value', axis=1)\n",
    "train = data[data['value'].notnull()].drop('value', axis=1)"
   ]
  },
  {
   "cell_type": "code",
   "execution_count": 3,
   "metadata": {},
   "outputs": [],
   "source": [
    "encoder = OneHotEncoder(categorical_features=[0, 1, 2], sparse=False)\n",
    "train = encoder.fit_transform(train)\n",
    "test = encoder.transform(test)"
   ]
  },
  {
   "cell_type": "markdown",
   "metadata": {},
   "source": [
    "### Ridge"
   ]
  },
  {
   "cell_type": "code",
   "execution_count": 4,
   "metadata": {},
   "outputs": [
    {
     "data": {
      "text/plain": [
       "Ridge(alpha=0.01, copy_X=True, fit_intercept=True, max_iter=None,\n",
       "   normalize=True, random_state=None, solver='auto', tol=0.001)"
      ]
     },
     "execution_count": 4,
     "metadata": {},
     "output_type": "execute_result"
    }
   ],
   "source": [
    "regressor_ridge = Ridge(alpha=0.01, normalize=True)\n",
    "regressor_ridge.fit(train, train_labels)"
   ]
  },
  {
   "cell_type": "code",
   "execution_count": 5,
   "metadata": {},
   "outputs": [],
   "source": [
    "test_categorical['value'] = regressor_ridge.predict(test)\n",
    "submit_ridge = (pd.read_csv('sample/test_set_weeks.csv',\n",
    "    index_col='id').merge(test_categorical, on=categorical))\n",
    "submit_ridge.index.name = 'id'\n",
    "submit_ridge.to_csv('submit_ridge.csv')"
   ]
  },
  {
   "cell_type": "markdown",
   "metadata": {},
   "source": [
    "### Trees"
   ]
  },
  {
   "cell_type": "code",
   "execution_count": 6,
   "metadata": {},
   "outputs": [
    {
     "data": {
      "text/plain": [
       "LGBMRegressor(boosting_type='gbdt', colsample_bytree=1.0, learning_rate=0.05,\n",
       "       max_bin=255, max_depth=8, min_child_samples=10, min_child_weight=5,\n",
       "       min_split_gain=0.0, n_estimators=5000, n_jobs=-1, num_leaves=31,\n",
       "       objective=None, random_state=0, reg_alpha=0.0, reg_lambda=0.0,\n",
       "       silent=True, subsample=1.0, subsample_for_bin=50000,\n",
       "       subsample_freq=1)"
      ]
     },
     "execution_count": 6,
     "metadata": {},
     "output_type": "execute_result"
    }
   ],
   "source": [
    "regressor_trees = LGBMRegressor(n_estimators=5000, max_depth=8, learning_rate=0.05)\n",
    "regressor_trees.fit(train, train_labels, eval_metric='rmse')"
   ]
  },
  {
   "cell_type": "code",
   "execution_count": 7,
   "metadata": {},
   "outputs": [],
   "source": [
    "test_categorical['value'] = regressor_trees.predict(test)\n",
    "submit_trees = pd.read_csv('sample/test_set_weeks.csv',\n",
    "    index_col='id').merge(test_categorical, on=categorical)\n",
    "submit_trees.index.name = 'id'\n",
    "submit_trees.to_csv('submit_trees.csv')"
   ]
  },
  {
   "cell_type": "markdown",
   "metadata": {},
   "source": [
    "### Smooth"
   ]
  },
  {
   "cell_type": "code",
   "execution_count": 8,
   "metadata": {},
   "outputs": [],
   "source": [
    "data = pd.read_csv('sample/train_set_weeks.csv', index_col='id')\n",
    "data['N wk'] **= 8\n",
    "data = data.merge(data.groupby(categorical)['N wk'].sum().\n",
    "    rename('normalization').reset_index(), on=categorical)\n",
    "data['N wk'] /= data['normalization']\n",
    "data['value'] *= data['N wk']\n",
    "predict = data.groupby(categorical)['value'].sum().reset_index()"
   ]
  },
  {
   "cell_type": "code",
   "execution_count": 9,
   "metadata": {},
   "outputs": [],
   "source": [
    "submit_smooth = pd.read_csv('sample/test_set_weeks.csv',\n",
    "    index_col='id').merge(predict, on=categorical)\n",
    "submit_smooth.index.name = 'id'\n",
    "submit_smooth.to_csv('submit_smooth.csv')"
   ]
  },
  {
   "cell_type": "markdown",
   "metadata": {},
   "source": [
    "### Ensemble"
   ]
  },
  {
   "cell_type": "code",
   "execution_count": 13,
   "metadata": {},
   "outputs": [],
   "source": [
    "submit_ensemble = pd.read_csv('sample/test_set_weeks.csv', index_col='id')\n",
    "submit_ensemble['value'] = (submit_ridge['value']*0.8\n",
    "    + submit_trees['value']*0.1 + submit_smooth['value']*0.1)\n",
    "submit_ensemble.to_csv('submit_ensemble.csv')"
   ]
  }
 ],
 "metadata": {
  "kernelspec": {
   "display_name": "Python 3",
   "language": "python",
   "name": "python3"
  },
  "language_info": {
   "codemirror_mode": {
    "name": "ipython",
    "version": 3
   },
   "file_extension": ".py",
   "mimetype": "text/x-python",
   "name": "python",
   "nbconvert_exporter": "python",
   "pygments_lexer": "ipython3",
   "version": "3.6.2"
  },
  "widgets": {
   "state": {},
   "version": "1.1.2"
  }
 },
 "nbformat": 4,
 "nbformat_minor": 2
}
